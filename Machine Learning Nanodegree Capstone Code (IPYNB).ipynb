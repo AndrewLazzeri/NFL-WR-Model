{
 "cells": [
  {
   "cell_type": "markdown",
   "metadata": {},
   "source": [
    "# Project Overview\n",
    "\n",
    "Sports analytics are ubiquitous in Major League Baseball, the National Basketball Association and more recently the National Football League.  Sharp staffs and general managers are trying to extract every advantage and possible edge using teams of data crunchers to optimize personnel decisions and evaluate players.  However, these analytical techniques are strangely lacking in the realm of fantasy sports despite the ever-increasing payouts and growth in the billion-dollar industry.  Nowhere is metric-based fantasy analysis lacking more than the NFL and particularly dynasty fantasy football in which players keep the majority or all of their players year to year and try and identify promising rookies.\n",
    "\n",
    "The ensuing analysis helps remedy this by applying frequently used machine learning algorithms to assist dynasty fantasy football owners.   Specifically, the analysis estimates the likelihood rookie wide receivers become useful starters (for fantasy football) within their first five years entering the NFL.  Currently, most dynasty player evaluation is based on qualitative inputs such as watching tape with minimal statistical analysis.  Even when there are some statistical measures present, they are often fairly basic and do not have the same predictive power modern machine learning tools can provide.  My hope is the ensuing analysis will serve as a useful complement to traditional player evaluation providing rewards to analytically minded owners and to help further the community’s understanding of what metrics augur NFL WR success."
   ]
  },
  {
   "cell_type": "markdown",
   "metadata": {},
   "source": [
    "## Problem Statement\n",
    "\n",
    "Identifying productive young wide receivers in dynasty fantasy football is difficult given all the intricacies of modern NFL and NCAA passing offenses yet remains absolutely crucial in the context of dynasty fantasy football.   Wide receivers have lengthy careers and with the increasing prevalence of points per reception scoring – which gives wide receivers higher relative value – selecting the right wide receivers in rookie draft can have lasting positive effects when constructing dynasty rosters.\n",
    "Criteria for NFL wide receiver “success” abound but in this context the analysis will target dynasty wide receivers (WR) notching at least one half point per reception top 24 WR finish within their first five years in the NFL as a “hit”. Not only do these WRs tend to provide multiple years of production, but they also tend to be the type of reliable producers week in week out which lead to more competitive teams in a game with highly volatile outcomes.\n",
    "\n",
    "This study will use college production, NFL combine measurables, draft position in both dynasty and the NFL draft as well as some grading and statistics from Pro Football Focus to try and construct a model detailing the probability a player will become a productive fantasy starter.   The analytical techniques in the beginning will be fairly basic but evolve into successively more complicated machine learning techniques and approaches to increase the usefulness of the model.   \t\n"
   ]
  },
  {
   "cell_type": "markdown",
   "metadata": {},
   "source": [
    "## Metrics & Benchmark\n",
    "\n",
    "The whole purpose of this analysis is to improve upon the numerous existing techniques for player evaluation.  There is no unanimous approach to player evaluation in NFL front offices and dynasty football players and sometimes participants don’t even have standardized approaches to scouting.  However, there are two data sources to get an idea of the consensus view on incoming rookies – the NFL draft and average draft position in dynasty football leagues available via the My Fantasy League website.   A player can derive significant information from using these two sources alone and basic regression techniques to forecast player success but there are further ways to increase their predictive capabilities using additional data and more sophisticated approaches.\n",
    "\n",
    "The model will focus on two evaluation metrics compared to the benchmark to assess success:\n",
    "\n",
    "1)\tAccuracy: Measures the extent to which the model accurately designates success and failures scaled by the total number of predictions\n",
    "\n",
    "2)\tArea Under the Curve: An estimate of the probability that a classifier will rank a randomly chosen positive instance higher than a randomly chosen negative instance.  This metric speaks to how well the model distinguishes between likely successes and failures and is superior in scrutinizing data where class imbalances exist \n",
    "\n",
    "The initial benchmark for the study is a simple logistic regression using unbalanced classes and scaled NFL and fantasy draft positioning.   Selecting a simple model with flaws as a benchmark was intentional to illustrate how balancing classes, adding features and using more sophisticated modelling techniques can improve the model’s predictive capabilities.\n"
   ]
  },
  {
   "cell_type": "markdown",
   "metadata": {},
   "source": [
    "## Required Packages\n",
    "\n",
    "This assignment will require a variety of different libraries including Numpy, Pandas, Matplotlib, Stats Model and several features in the Scikit Learn library.  I've done my best to annotate and group them below."
   ]
  },
  {
   "cell_type": "code",
   "execution_count": 45,
   "metadata": {},
   "outputs": [],
   "source": [
    "#Dataframe manipulation\n",
    "import pandas as pd\n",
    "import numpy as np\n",
    "\n",
    "#Sklearn data pre-processing packages\n",
    "from sklearn.impute import KNNImputer #for imputing missing data\n",
    "from sklearn.preprocessing import MinMaxScaler #for standardizing data\n",
    "from sklearn.model_selection import train_test_split #splitting the data into training/testing sets\n",
    "from sklearn.utils import resample\n",
    "\n",
    "#Evaluation metrics\n",
    "from sklearn.metrics import mean_squared_error\n",
    "from sklearn import metrics\n",
    "from sklearn.metrics import roc_curve, auc\n",
    "from sklearn.datasets import make_classification\n",
    "\n",
    "#Import supervised learning algorithms\n",
    "import statsmodels.api as sm\n",
    "from sklearn.linear_model import LogisticRegression\n",
    "from sklearn.tree import DecisionTreeClassifier\n",
    "from sklearn.ensemble import BaggingClassifier\n",
    "from sklearn.ensemble import RandomForestClassifier\n",
    "from sklearn.ensemble import GradientBoostingClassifier\n",
    "\n",
    "#Visualization\n",
    "from sklearn import tree\n",
    "import matplotlib as mpl\n",
    "import matplotlib.pyplot as plt\n",
    "import matplotlib.ticker as mtick\n",
    "\n",
    "#Ignore deprecation warnings for presentation's sake\n",
    "import warnings\n",
    "warnings.filterwarnings('ignore')"
   ]
  },
  {
   "cell_type": "markdown",
   "metadata": {},
   "source": [
    "## Data Inputs\n",
    "\n",
    "Datasets for the problem are difficult to compile and require various source material: \n",
    "\n",
    "College Football Reference Receiving Statistics:  Contains receiving data for college WRs detailing college production. \n",
    "\t\n",
    "Dynasty League Football (DLF) Dynasty Avg. Draft Position Data: Represents the average rank dynasty football participants assigned to each player. As an example, the player most consistently being drafted at the #1 overall spot is considered the player with the most promising career. \n",
    "\n",
    "ESPN NFL Receiving Statistics:  This is to form the dependent. This will measure their success after selection and is the measure the dynasty fantasy football community most cares about.\n",
    "\n",
    "Pro Football Focus Elite College Receiving Metrics: Advanced statistical metrics on performance which help supplement the college statistical data.\n",
    "\n",
    "Pro Football Reference Combine Data: The NFL combine brings all incoming NFL players together to create standardized athletic tests measuring player speed, strength, agility and other measurables. In addition, this data also contains the player’s placement in the NFL draft which provides information on what professional evaluators think of the player (and differs from fantasy draft placement).\n",
    "\n",
    "All of this data is available for free via their respective websites, with the exception of the Pro Football Focus data that requires a subscription.\n"
   ]
  },
  {
   "cell_type": "code",
   "execution_count": 46,
   "metadata": {},
   "outputs": [],
   "source": [
    "#Loading CSV files with College Football Reference Receiving Statistics\n",
    "college_stats_df = pd.read_csv(\"C:/Users/19712/Desktop/NFL Player Model/College Football Reference Receiving Statistics.csv\")\n",
    "\n",
    "#Loading CSV files with Avg DLF Dynasty Draft Position\n",
    "ADP_df = pd.read_csv(\"C:/Users/19712/Desktop/NFL Player Model/Dynasty League Football (DLF) Dynasty Avg. Draft Position Data.csv\")\n",
    "\n",
    "# loading CSV files with consolidated ESPN NFL Receiving Statistics\n",
    "dependent_df = pd.read_csv(\"C:/Users/19712/Desktop/NFL Player Model/ESPN NFL Receiving Statistics.csv\")\n",
    "\n",
    "#Loading CSV files with Pro Football Focus Elite College Receiving Metrics\n",
    "pff_df = pd.read_csv(\"C:/Users/19712/Desktop/NFL Player Model/Pro Football Focus Elite College Receiving Metrics.csv\")\n",
    "\n",
    "#Loading CSV files with Pro Football Reference Combine Data\n",
    "combine_df = pd.read_csv(\"C:/Users/19712/Desktop/NFL Player Model/Pro Football Reference Combine Data.csv\")\n"
   ]
  },
  {
   "cell_type": "markdown",
   "metadata": {},
   "source": [
    "## Data Pre-Processing\n",
    "\n",
    "Compiling the data in of itself requires effort, however there will be some significant pre-processing and manipulation of the data itself before using machine learning techniques:\n",
    "\n",
    "1)\tMissing Data: Some of the data points are missing for legitimate reasons.  As an example, a player might not post combine measurables and Pro Football Focus doesn’t have full grading coverage and statistics for all eligible players.  Data imputation – filling in missing data using cues from existing data -  can help alleviate some of the gaps in the data.  As an example, if a player is missing 40 yard dash times at the combine but has stronger than normal yards after catch, avg yards per reception and a fast shittle time, it would suggest they also have a fast 40 yard dash time.\n",
    "\n",
    "2)\tStandardizing Data:  It’s important to standardize data prior to using machine learning techniques, otherwise, difference the units of measurement might distort the results. Additionally, it’s important to scale data appropriately so as to reduce outliers.  Most of this is done by using features which are fairly normally distributed (such as population combine data) or focusing on player production per game \n",
    "\n",
    "3)\tClass Imbalances:  A class imbalance is when the target outcome is far more/ less common than the alternative (in this case the likelihood a top 24 fantasy WR).  Class imbalances can lead to issues training classifier algorithms because at certain thresholds, the algorithm might find it most accurate to simply classify all observations in one category or another without discriminating.   Two ways to circumvent this are to adjust the dataset to “balance” the two classes (upsampling/downsampling) or to use another criteria such as area under the curve when training models.  This study will use both techniques with more detail in the data pre-processing and evaluation section.\n"
   ]
  },
  {
   "cell_type": "markdown",
   "metadata": {},
   "source": [
    "### Pre-Processing the ESPN Receiving Data\n",
    "\n",
    "Creating the dependent for WRs recording a top 24 finish in ESPN half point per reception scoring involves: \n",
    "\n",
    "Step 1: Take receptions, yards, touchdowns and lost fumbles and convert them into a season-long score according to standard half PPR rules\n",
    "\n",
    "Step 2: Take the season long score (from the above) for all WRs in ESPN’s scoring and then rank them grouped by season in descending fashion (highest score=1 and so on)\n",
    "\n",
    "Step 3:  Create a filtering mechanism to flag WRs with less than 5 years of eligible experience in the NFL\n",
    "\n",
    "Step 4:  Create a boolean column flagging if a WR notched a top 24 season for each season they were in the NFL\n",
    "\n",
    "Step 5:  Take the maximum of the boolean flagged column for each WR (AKA if they had any season where they were a top 24 WR, return a 1)\n"
   ]
  },
  {
   "cell_type": "code",
   "execution_count": 47,
   "metadata": {},
   "outputs": [],
   "source": [
    "#Step 1: Convert statistics to half-PPR scoring\n",
    "dependent_df['SeasonScore'] = dependent_df['Receptions']*1/2 + dependent_df['Yards']*1/10 + dependent_df['Touchdowns']*6 + dependent_df['FumblesLost']*-2\n",
    "\n",
    "#Step 2: Rank each WR finish by season\n",
    "dependent_df['SeasonRank'] = dependent_df.groupby(\"Year\")[\"SeasonScore\"].rank(\"dense\", ascending=False)\n",
    "\n",
    "#Step 3: Create a filter for WRs with < 5 years NFL experience\n",
    "dependent_df['YearChk'] = dependent_df['DraftYr']\n",
    "dependent_df['EligibleRank'] = np.where((dependent_df['DraftYr']+5)>=dependent_df['Year'],dependent_df['SeasonRank'],np.nan)\n",
    "\n",
    "#Step 4: Create a column boolean column flagging top 24 WR seasons\n",
    "dependent_df['WRHit'] = np.where(dependent_df['EligibleRank']<=24,1,0)\n",
    "\n",
    "#Step 5: Take the maximum flag for each WR\n",
    "reduced_dependent_df = dependent_df[['Name', 'WRHit']]\n",
    "grouped_df = reduced_dependent_df.groupby(\"Name\")\n",
    "maximums = grouped_df.max()\n",
    "final_dependent_df = maximums.reset_index()"
   ]
  },
  {
   "cell_type": "markdown",
   "metadata": {},
   "source": [
    "### Pre-Processing the College Statistical Data\n",
    "\n",
    "Step 1: Take the data on the college conference, replace references to conferences which no longer exist (such as replacing Pac 10 with Pac 12) and then create a dictionary mapping the most prestigious conference vs. lower levels of competition. Finally assign conference designations based on the player’s most recent season prior to the draft (if they player switched conferences)\n",
    "\n",
    "Step 2: Create some efficiency metrics based on college statistics (Yards per reception, Touchdown per reception, Yards per game, Touchdowns per game, Receptions per game)\n"
   ]
  },
  {
   "cell_type": "code",
   "execution_count": 48,
   "metadata": {},
   "outputs": [],
   "source": [
    "#Isolate the college statistics dataframe to receiving statistics\n",
    "college_stats_df = college_stats_df[['Player', 'Conf', 'G', 'Rec', 'Yds', 'TD', 'Year']]\n",
    "college_stats_df['Conf'] = college_stats_df['Conf'].replace('Pac-10','Pac-12')\n",
    "\n",
    "##Step 1: Establish college conference data\n",
    "#Divide conferences into Power 5 and Non Power 5 for later one hot encoding\n",
    "Conf_dict = {'ACC':1, 'Big 12':1, 'SEC':1, 'Big Ten': 1, 'Pac-12':1, 'Big East':1,  \n",
    "             'CUSA': 0, 'MAC': 0, 'MWC': 0, 'Sun Belt': 0, 'American':0, 'WAC':0, 'Ind': 0}\n",
    "college_stats_df['Power5'] = college_stats_df['Conf'].replace(Conf_dict)\n",
    "college_stats_df['Name'] = college_stats_df['Player']\n",
    "\n",
    "#Create a seperate dataframe for conference, a boolean for Big5\n",
    "#Limit the df to most recent college season\n",
    "college_stats_df['DraftYr'] = college_stats_df['Year']\n",
    "college_conf_df = college_stats_df[['Name','Conf','Power5','DraftYr']]\n",
    "college_conf_df['year_rank']  = college_conf_df.groupby('Name')['DraftYr'].rank(method='first',ascending=False)\n",
    "college_conf_df = college_conf_df[college_conf_df.year_rank == 1]\n",
    "college_conf_df = college_conf_df[['Name', 'Conf', 'Power5']]\n",
    "\n",
    "##Step 2: Create basic efficiency statistics\n",
    "#Create a sum of all college statistical data irrespective of college season\n",
    "college_stats_sum = college_stats_df[['Name','G', 'Rec', 'Yds', 'TD']]\n",
    "college_career_efficiency = college_stats_sum.groupby(['Name']).sum()\n",
    "\n",
    "#Create some basic production efficiency statistics\n",
    "college_career_efficiency['yardsperrecpt'] = college_career_efficiency['Yds']/college_career_efficiency['Rec']\n",
    "college_career_efficiency['TDrate'] = college_career_efficiency['TD']/college_career_efficiency['Rec']\n",
    "college_career_efficiency['yardspergame'] = college_career_efficiency['Yds']/college_career_efficiency['G']\n",
    "college_career_efficiency['TDspergame'] = college_career_efficiency['TD']/college_career_efficiency['G']\n",
    "college_career_efficiency['recpergame'] = college_career_efficiency['Rec']/college_career_efficiency['G']\n"
   ]
  },
  {
   "cell_type": "markdown",
   "metadata": {},
   "source": [
    "### Pre-Processing the NFL Combine Data\n",
    "\n",
    "Step 1:  Limit the receiving data solely to WRs and TEs\n",
    "\n",
    "Step 2: Parse the data indicating draft position which is a string and extract the specific slot a player was selected in the NFL draft\n",
    "\n",
    "Step 3: Take players who were undrafted and assign them the 224th draft slot instead of a null value (this treats undrafted players as if they were the last pick in the NFL draft)\n",
    "\n",
    "Step 4:  Limit the dataframe to relevant variables\n",
    "\n",
    "All other combine metrics are already floats or integers and do not require further conversion\n"
   ]
  },
  {
   "cell_type": "code",
   "execution_count": 49,
   "metadata": {},
   "outputs": [],
   "source": [
    "#Step 1: Limit the dataframe to WRs and TEs\n",
    "combine_df_WR = combine_df[(combine_df.Position =='WR') | (combine_df.Position=='TE')]\n",
    "\n",
    "#Step 2: Parse the string data for the NFL draft position\n",
    "combine_df_WR[['Team','Round', 'RoundPick', 'Year']] = combine_df_WR.DraftInfo.str.split(\"/\",expand=True)\n",
    "combine_df_WR['LenDraft'] = combine_df_WR['RoundPick'].str.len()\n",
    "combine_df_WR['DraftSlot'] = combine_df_WR['RoundPick'].str.replace(\"pick\",\"\").str.replace(\"th\",\"\").str.replace(\"nd\",\"\").str.replace(\"rd\",\"\").str.replace(\"st\",\"\")\n",
    "\n",
    "#Step 3: Assign undrafted free agents as having the last pick in the draft\n",
    "combine_df_WR['DraftSlot'] = np.where(combine_df_WR['DraftSlot'].isna(), 32*7, combine_df_WR['DraftSlot'])\n",
    "combine_df_WR['DraftSlot'] = pd.to_numeric(combine_df_WR['DraftSlot'])\n",
    " \n",
    "#Step 4: Pare down the dataframe to focus on core combine metrics and draft position\n",
    "combine_df_WR_pared = combine_df_WR[['Name', 'Height', 'Weight', '40yd', 'Vertical', \n",
    "                                     'Bench', 'Broad Jump', '3Cone','Shuttle','DraftSlot']]\n",
    "\n"
   ]
  },
  {
   "cell_type": "markdown",
   "metadata": {},
   "source": [
    "### Pre-Process the Pro Football Focus Data\n",
    "\n",
    "Step 1: Limit the PFF data to player seasons with at least 25 targets in a season to avoid providing stats on players with severely limited opportunities\n",
    "\n",
    "Step 2: Aggregate all of the college player’s statistics for eligible seasons of 25 targets or more to create a dataset which reflects the players total college production\n",
    "\n",
    "Step 3: Create a series of career efficiency metrics such as Yards per target, Catches per target, First downs per target, Turnovers (fumbles and credited receptions) per catch, Missed tackles per reception, Yards after catch per reception, Drops per target, Longest catch\n",
    "\n",
    "Step 4: Create average grades for players over their full college career with a group by mean of all PFF season grades\n"
   ]
  },
  {
   "cell_type": "code",
   "execution_count": 50,
   "metadata": {},
   "outputs": [],
   "source": [
    "#Step 1: Limit the PFF data to seasons with at least 25 targets\n",
    "pff_df = pff_df[pff_df.targets > 25]\n",
    "\n",
    "#Step 2: Aggregate the dataframe by player to create career production figures\n",
    "pff_df_sum = pff_df[['Name', 'player_game_count', 'targets', 'receptions', \n",
    "                     'yards', 'touchdowns','yards_after_catch', 'longest',\n",
    "                     'first_downs', 'drops', 'interceptions', 'fumbles', 'avoided_tackles',\n",
    "                     'penalties', 'declined_penalties']]\n",
    "pff_career_stats = pff_df_sum.groupby(['Name']).sum()\n",
    "pff_career_efficiency = pff_career_stats\n",
    "\n",
    "#Step 3: Creaete career efficiency metrics\n",
    "pff_career_efficiency['yardspertgt'] = pff_career_efficiency['yards']/pff_career_efficiency['targets']\n",
    "pff_career_efficiency['catchperct'] = pff_career_efficiency['receptions']/pff_career_efficiency['targets']\n",
    "pff_career_efficiency['firstdownrate'] = pff_career_efficiency['first_downs']/pff_career_efficiency['receptions']\n",
    "pff_career_efficiency['turnoverrate'] = (pff_career_efficiency['interceptions']+pff_career_efficiency['fumbles'])/pff_career_efficiency['receptions']\n",
    "pff_career_efficiency['jukerate'] =  pff_career_efficiency['avoided_tackles']/pff_career_efficiency['receptions']\n",
    "pff_career_efficiency['YACRate'] =  pff_career_efficiency['yards_after_catch']/pff_career_efficiency['receptions']\n",
    "pff_career_efficiency['droprate'] = pff_career_efficiency['drops']/pff_career_efficiency['targets']\n",
    "pff_career_efficiency = pff_career_efficiency[['longest', 'yardspertgt', 'catchperct', 'firstdownrate', 'turnoverrate','jukerate', 'YACRate', 'droprate']]\n",
    "\n",
    "#Step 4: Create career avg PFF grades for qualifying seasons (seasons w/ >25 targets)\n",
    "pff_career_avg = pff_df[['Name','grades_offense', 'grades_pass_route', 'grades_hands_drop',\n",
    "                     'grades_hands_fumble', 'targeted_qb_rating']]\n",
    "pff_career_avg = pff_career_avg.groupby(['Name']).mean()\n"
   ]
  },
  {
   "cell_type": "markdown",
   "metadata": {},
   "source": [
    "### Merging the Dataframes\n",
    "\n",
    "Step 1: Merge all of the inputs into a final dataframe for the final cleanup, scaling and imputation.\n",
    "\n",
    "Step 2: Filter the data to include any WR who is already a success (even if they were drafted less than 5 years ago). This is because we already know their classification in this case.\n",
    "\n",
    "Step 3: Remove players who were drafted in the last five years who have yet to post a top 24 WR season (because they could be a future success with development).\n",
    "\n",
    "Step 4: Count the total number of nulls in the data and remove observations with a critical mass of nulls which simply don’t have enough data.\n",
    "\n"
   ]
  },
  {
   "cell_type": "code",
   "execution_count": 51,
   "metadata": {},
   "outputs": [],
   "source": [
    "#Step 1: Merge all the dataframes together\n",
    "#Use the dynasty draft avg. draft position as the basis for the data & left join from there\n",
    "initial_ADP_df = ADP_df[ADP_df['Position']=='WR']\n",
    "initial_ADP_df = initial_ADP_df[['Name','Pick','DraftYr']] \n",
    "final_data_df = initial_ADP_df.merge(combine_df_WR_pared, on='Name', how='left')\n",
    "final_data_df = final_data_df.merge(final_dependent_df, on='Name', how='left')\n",
    "final_data_df = final_data_df.merge(pff_career_efficiency, on='Name', how='left')\n",
    "final_data_df = final_data_df.merge(pff_career_avg, on='Name', how='left')\n",
    "final_data_df = final_data_df.merge(college_career_efficiency, on='Name', how='left')\n",
    "final_data_df = final_data_df.merge(college_conf_df, on='Name', how='left')\n",
    "\n",
    "#Step 2 & 3: Filter the data to keep WRs which have already hit and remove those that haven't played a full 5 years\n",
    "final_data_df['WRHit'] = np.where(final_data_df['WRHit']==1,1,0)\n",
    "final_data_df['Keep1'] = np.where(final_data_df['WRHit']==1,1,0)\n",
    "final_data_df['Keep2'] = np.where(final_data_df['DraftYr']<2016,1,0)\n",
    "final_data_df['Keep3'] = np.where(final_data_df['Keep1']==1,1,final_data_df['Keep2'])\n",
    "\n",
    "#Step #4: Count the NaNs across columns and remove WR with < 20 data points\n",
    "#Note, we are going to interpolate some measures to fill out the dataset\n",
    "final_data_df['NAs'] = final_data_df.isnull().sum(axis=1)\n",
    "final_data_df = final_data_df[final_data_df.NAs<=32]\n",
    "\n",
    "#Reserve descriptive columns for after scaling and imputing data\n",
    "include_df = final_data_df[['Keep3','DraftYr']]\n",
    "\n",
    "#Remove unwanted helper columns\n",
    "final_data_df = final_data_df.drop(['DraftYr', 'Keep1', 'Keep2', 'Keep3', 'NAs','Conf'], axis=1) \n",
    "\n",
    "#Make a list of player names as keys for dataframes after data manipulation\n",
    "name_list = list(final_data_df['Name'])\n",
    "\n",
    "#Create a dataframe where the names are the keys and drop the names column\n",
    "final_data_df_numpy = final_data_df.to_numpy()\n",
    "final_data_df_with_names = pd.DataFrame(final_data_df_numpy, columns = final_data_df.columns, index=name_list)\n",
    "final_data_df = final_data_df_with_names.drop(['Name'], axis=1)\n",
    "\n",
    "#Create a dataframe with descriptive data for after imputation\n",
    "include_df_numpy = include_df.to_numpy()\n",
    "include_df = pd.DataFrame(include_df_numpy, columns = include_df.columns, index=name_list)\n"
   ]
  },
  {
   "cell_type": "markdown",
   "metadata": {},
   "source": [
    "### Standardizing the Data for Machine Learning\n",
    "\n",
    "It’s important to standardize data prior to using machine learning techniques, otherwise, difference the units of measurement might distort the results. Additionally, it’s important to scale data appropriately so as to reduce outliers.  Most of this is done by using features which are fairly normally distributed (such as population combine data) or focusing on player production per game. Here we will apply min/max scaling to the dataset to standardize unit size."
   ]
  },
  {
   "cell_type": "code",
   "execution_count": 52,
   "metadata": {},
   "outputs": [],
   "source": [
    "#Apply Sklearn's MinMaxScaler prior to applying a K Means imputation algorithm\n",
    "scaler = MinMaxScaler()\n",
    "\n",
    "#Full dataset\n",
    "scaler.fit(final_data_df)\n",
    "final_data_df_kmeans = pd.DataFrame(scaler.transform(final_data_df), columns = final_data_df.columns, index=name_list)\n"
   ]
  },
  {
   "cell_type": "markdown",
   "metadata": {},
   "source": [
    "### Handling Missing Data Via K Means Imputations\n",
    "\n",
    "Some of the data points are missing for legitimate reasons.  As an example, a player might not post combine measurables and Pro Football Focus doesn’t have full grading coverage and statistics for all eligible players.  Data imputation – filling in missing data using cues from existing data -  can help alleviate some of the gaps in the data.  \n",
    "\n",
    "K Means algorithms do require an input for the number of clusters to use which will require further investigation.  The below function helps minimize a loss function on the dependent data to help find the right # of clusters for imputation."
   ]
  },
  {
   "cell_type": "code",
   "execution_count": 53,
   "metadata": {},
   "outputs": [],
   "source": [
    "#This cell sets up a function used to determine the number of clusters for k means\n",
    "\n",
    "rmse = lambda y, yhat: np.sqrt(mean_squared_error(y, yhat))\n",
    "\n",
    "#Next create a function to evalute k means errors\n",
    "\n",
    "def optimize_k(data, target):\n",
    "    errors = []\n",
    "    for k in range(2, 30, 2):\n",
    "        imputer = KNNImputer(n_neighbors=k)\n",
    "        imputed = imputer.fit_transform(data)\n",
    "        df_imputed = pd.DataFrame(imputed, columns=data.columns)\n",
    "        \n",
    "        X = df_imputed.drop(target, axis=1)\n",
    "        y = df_imputed[target]\n",
    "        X_train, X_test, y_train, y_test = train_test_split(X, y, test_size=0.2, random_state=42)\n",
    "\n",
    "        model = RandomForestClassifier()\n",
    "        model.fit(X_train, y_train)\n",
    "        preds = model.predict(X_test)\n",
    "        error = rmse(y_test, preds)\n",
    "        errors.append({'K': k, 'RMSE': error})\n",
    "        \n",
    "    return errors"
   ]
  },
  {
   "cell_type": "code",
   "execution_count": 54,
   "metadata": {},
   "outputs": [
    {
     "data": {
      "text/plain": [
       "[{'K': 2, 'RMSE': 0.3668996928526714},\n",
       " {'K': 4, 'RMSE': 0.3668996928526714},\n",
       " {'K': 6, 'RMSE': 0.3922322702763681},\n",
       " {'K': 8, 'RMSE': 0.31008683647302115},\n",
       " {'K': 10, 'RMSE': 0.31008683647302115},\n",
       " {'K': 12, 'RMSE': 0.3668996928526714},\n",
       " {'K': 14, 'RMSE': 0.3668996928526714},\n",
       " {'K': 16, 'RMSE': 0.3396831102433787},\n",
       " {'K': 18, 'RMSE': 0.3668996928526714},\n",
       " {'K': 20, 'RMSE': 0.3668996928526714},\n",
       " {'K': 22, 'RMSE': 0.3922322702763681},\n",
       " {'K': 24, 'RMSE': 0.3922322702763681},\n",
       " {'K': 26, 'RMSE': 0.2773500981126146},\n",
       " {'K': 28, 'RMSE': 0.3668996928526714}]"
      ]
     },
     "execution_count": 54,
     "metadata": {},
     "output_type": "execute_result"
    }
   ],
   "source": [
    "#invoke the function optimize_k\n",
    "optimize_k(data = final_data_df_kmeans, target='WRHit')"
   ]
  },
  {
   "cell_type": "code",
   "execution_count": 55,
   "metadata": {},
   "outputs": [],
   "source": [
    "#from the above, it appears ~20 clusters reduces the error rate\n",
    "\n",
    "#Impute the full data\n",
    "imputer = KNNImputer(n_neighbors=26)\n",
    "imputed = imputer.fit_transform(final_data_df_kmeans)\n",
    "final_data_df_kmeans = pd.DataFrame(imputed, columns=final_data_df_kmeans.columns, index=name_list)\n",
    "final_data_df_kmeans['Power5'] = np.where(final_data_df_kmeans['Power5'] == 1,1,0)"
   ]
  },
  {
   "cell_type": "markdown",
   "metadata": {},
   "source": [
    "Now that the data is imputed, it's important to limit the observations to WRs who have had sufficient time to produce a top 24 WR season.  This involves leaving some WRs in the data who have produced a top 24 finish in the league in less than 5 years and removing the WRs who have yet to hit that mark if they've yet to be in the leage that long.  The boolean column Keep3 flags such WRs so its important to merge the imputed data with the designation and then there will be some slicing of the dataframe for validation and inference later on using the draft year."
   ]
  },
  {
   "cell_type": "code",
   "execution_count": 56,
   "metadata": {},
   "outputs": [],
   "source": [
    "#Time to merge and the slice the data for later on\n",
    "merge_df = pd.merge(final_data_df_kmeans, include_df, left_index=True, right_index=True)\n",
    "final_data_df_kmeans = merge_df\n",
    "\n",
    "#Create data for the 2020 class\n",
    "final_data_df_2020 = final_data_df_kmeans[final_data_df_kmeans['DraftYr']==2020]\n",
    "\n",
    "#Adjust the dataframe to remove ineligible WRs\n",
    "final_data_df_kmeans = final_data_df_kmeans[final_data_df_kmeans['Keep3']==1]\n",
    "\n",
    "#Create pre and post 2014 datasets for later validation\n",
    "final_data_df_kmeans_pre2014 = final_data_df_kmeans[final_data_df_kmeans['DraftYr']<2014]\n",
    "final_data_df_kmeans_post2014 = final_data_df_kmeans[final_data_df_kmeans['DraftYr']>=2014]\n",
    "\n",
    "#Drop classification columns which are no longer required\n",
    "final_data_df_kmeans = final_data_df_kmeans.drop(['Keep3', 'DraftYr'], axis=1)\n",
    "final_data_df_kmeans_pre2014  = final_data_df_kmeans_pre2014.drop(['Keep3', 'DraftYr'], axis=1)\n",
    "final_data_df_kmeans_post2014 = final_data_df_kmeans_post2014.drop(['Keep3', 'DraftYr'], axis=1)\n",
    "final_data_df_2020 = final_data_df_2020.drop(['Keep3', 'DraftYr'], axis=1)\n"
   ]
  },
  {
   "cell_type": "markdown",
   "metadata": {},
   "source": [
    "### Handling Class Imbalances\n",
    "\n",
    "A class imbalance is when the target outcome is far more/less common than the alternative (in this case the likelihood a top 24 fantasy WR is less common than a bust).  Class imbalances can lead to issues training classifier algorithms because at certain thresholds, the algorithm might find it most accurate to simply classify all observations in one category or another without discriminating.   Two ways to circumvent this are to adjust the dataset to “balance” the two classes (upsampling/downsampling) or to use another criteria such as area under the curve when training models.  This study will use both techniques with more detail in the data pre-processing and evaluation section.\n",
    "\n",
    "The first step with upsampling is to look at the distribution of the predicted variables prior to resampling the data."
   ]
  },
  {
   "cell_type": "code",
   "execution_count": 57,
   "metadata": {},
   "outputs": [
    {
     "data": {
      "text/plain": [
       "0.0    110\n",
       "1.0     53\n",
       "Name: WRHit, dtype: int64"
      ]
     },
     "execution_count": 57,
     "metadata": {},
     "output_type": "execute_result"
    }
   ],
   "source": [
    "#Let's look at the class distribution\n",
    "final_data_df_kmeans['WRHit'].value_counts()"
   ]
  },
  {
   "cell_type": "markdown",
   "metadata": {},
   "source": [
    "Here you can see that in the past, roughly 1/3 of drafted WRs post a top 24 season whereas 2/3 register failure.  The below code will use sklearn's resample utility to balance the classes by taking the existing successful WRs and increasing the frequency so they occur as often as failures.  That way, there is an equal probability successes and failures are part of the training and testing process."
   ]
  },
  {
   "cell_type": "code",
   "execution_count": 58,
   "metadata": {},
   "outputs": [
    {
     "data": {
      "text/plain": [
       "1.0    110\n",
       "0.0    110\n",
       "Name: WRHit, dtype: int64"
      ]
     },
     "execution_count": 58,
     "metadata": {},
     "output_type": "execute_result"
    }
   ],
   "source": [
    "#Looking at the class distribution it's approximately 1/3 success 2/3 failure.  We must rebalance the classes\n",
    "\n",
    "# Separate WR successes and failures as classes\n",
    "final_data_df_kmeans_hit = final_data_df_kmeans[final_data_df_kmeans.WRHit==1]\n",
    "final_data_df_kmeans_bust = final_data_df_kmeans[final_data_df_kmeans.WRHit==0]\n",
    "\n",
    "# Upsample success so they are occur with the same frequency as failures\n",
    "final_data_df_kmeans_hit_upsample = resample(final_data_df_kmeans_hit, \n",
    "                                 replace=True,     # sample with replacement\n",
    "                                 n_samples=110,    # to match majority class\n",
    "                                 random_state=123) # reproducible results\n",
    "\n",
    "# Combine upsampled success class with the failures\n",
    "final_data_df_kmeans_upsample = pd.concat([final_data_df_kmeans_bust, final_data_df_kmeans_hit_upsample])\n",
    " \n",
    "# Display new class counts\n",
    "final_data_df_kmeans_upsample.WRHit.value_counts()\n"
   ]
  },
  {
   "cell_type": "markdown",
   "metadata": {},
   "source": [
    "As you can see from the new value counts, WR successes are now as prevalent as failures in the dataframe thereby completing the upsample procedure."
   ]
  },
  {
   "cell_type": "markdown",
   "metadata": {},
   "source": [
    "### Visualization of WR Success by Draft Position\n",
    "\n",
    "Player draft position can be fairly predictive itself and while everyone has their own views on players most dynasty players take some cues from the NFL and dynasty community consensus.  But how accurate is it?   Pretty accurate as it turns out.  If you were to take a random cue on player selection it does appear that NFL and the dynasty fantasy football hive mind do a fairly good job of ordering prospects, particularly the top prospects.  It does make sense to weight the consensus in the model albeit as one of several factors that drive player selection.\n"
   ]
  },
  {
   "cell_type": "code",
   "execution_count": 59,
   "metadata": {},
   "outputs": [
    {
     "data": {
      "image/png": "[encoded data removed]",
      "text/plain": [
       "<Figure size 432x288 with 1 Axes>"
      ]
     },
     "metadata": {
      "needs_background": "light"
     },
     "output_type": "display_data"
    },
    {
     "data": {
      "text/plain": [
       "<Figure size 3600x288 with 0 Axes>"
      ]
     },
     "metadata": {},
     "output_type": "display_data"
    }
   ],
   "source": [
    "#Providing avg. success rates by dynasty draft avg. draft position\n",
    "\n",
    "#Pull in the raw data\n",
    "avg_draft_success = final_data_df[['WRHit', 'Pick']]\n",
    "avg_draft_success['WRHit'] = pd.to_numeric(avg_draft_success['WRHit'])\n",
    " \n",
    "#Create rounds based on draft placement (each round has 12 slots typically)\n",
    "avg_draft_success['Groupings'] = np.where(final_data_df['Pick']<= 12, 1,\n",
    "                                 np.where(final_data_df['Pick']<= 24, 2,\n",
    "                                 np.where(final_data_df['Pick']<= 36, 3,\n",
    "                                 np.where(final_data_df['Pick']<= 48, 4, 5\n",
    "                                         ))))\n",
    "\n",
    "\n",
    "avg_draft_success = avg_draft_success.groupby(['Groupings']).mean()\n",
    "plt_plot_data = avg_draft_success['WRHit']*100\n",
    "\n",
    "#Create a bar chart for the % of successful draft picks per round grouping\n",
    "fig = plt.figure()\n",
    "ax = fig.add_axes([0,0,1,1])\n",
    "draft_position = ['1st', '2nd', '3rd', '4th', '5th']\n",
    "hits = plt_plot_data\n",
    "plt.ylabel(\"Historical Success Rate by Dynasty Draft Round\")\n",
    "plt.xlabel(\"Dynasty Draft Round Selected\")\n",
    "plt.title(\"% of WRs With Top 24 Fantasy Finishes by Dynasty Draft Round\")\n",
    "plt.figure(figsize=(50,4))\n",
    "ax.bar(draft_position, hits)\n",
    "ax.yaxis.set_major_formatter(mtick.PercentFormatter())\n",
    "plt.show()"
   ]
  },
  {
   "cell_type": "code",
   "execution_count": 60,
   "metadata": {},
   "outputs": [
    {
     "data": {
      "image/png": "[encoded data removed]",
      "text/plain": [
       "<Figure size 432x288 with 1 Axes>"
      ]
     },
     "metadata": {
      "needs_background": "light"
     },
     "output_type": "display_data"
    },
    {
     "data": {
      "text/plain": [
       "<Figure size 3600x288 with 0 Axes>"
      ]
     },
     "metadata": {},
     "output_type": "display_data"
    }
   ],
   "source": [
    "#Providing avg. success rates by NFL draft position\n",
    "\n",
    "#Pull in raw data\n",
    "avg_draft_success = final_data_df[['WRHit', 'DraftSlot']]\n",
    "avg_draft_success['WRHit'] = pd.to_numeric(avg_draft_success['WRHit'])\n",
    " \n",
    "#Create NFL draft groupings (each round has 32 picks excluding compensatory picks which vary year to year)\n",
    "avg_draft_success['Groupings'] = np.where(final_data_df['DraftSlot']<= 32, 1,\n",
    "                                 np.where(final_data_df['DraftSlot']<= 32*2, 2,\n",
    "                                 np.where(final_data_df['DraftSlot']<= 32*3, 3,\n",
    "                                 np.where(final_data_df['DraftSlot']<= 32*4, 4, \n",
    "                                 np.where(final_data_df['DraftSlot']<= 32*5, 5,\n",
    "                                 np.where(final_data_df['DraftSlot']<= 32*6, 6,\n",
    "                                          7\n",
    "                                         ))))))\n",
    "\n",
    "\n",
    "avg_draft_success = avg_draft_success.groupby(['Groupings']).mean()\n",
    "plt_plot_data = avg_draft_success['WRHit']*100\n",
    "plt_plot_data\n",
    "\n",
    "#Create a bar chart for the % of successful draft picks per round grouping\n",
    "fig = plt.figure()\n",
    "ax = fig.add_axes([0,0,1,1])\n",
    "draft_position = ['1st', '2nd', '3rd', '4th', '5th','6th', '7th']\n",
    "hits = plt_plot_data\n",
    "plt.ylabel(\"Historical Success Rate by NFL Draft Slot\")\n",
    "plt.xlabel(\"NFL Draft Round Selected\")\n",
    "plt.title(\"% of WRs With top 24 Fantasy Finishes by NFL Draft Round\")\n",
    "plt.figure(figsize=(50,4))\n",
    "ax.bar(draft_position, hits)\n",
    "ax.yaxis.set_major_formatter(mtick.PercentFormatter())\n",
    "plt.show()"
   ]
  },
  {
   "cell_type": "markdown",
   "metadata": {},
   "source": [
    "## Algorithms and Techniques\n",
    "\n",
    "This analysis will use a variety of algorithms to evaluate the data at hand starting from very basic linear models to more sophisticated approaches.  The analysis will start with logistic regression models to provide some details on the coefficients of the various inputs, then move to simple decision tree classifiers to better understand the most crucial determinants of WR production before moving on to bagging, boosting and ensemble techniques to try and increase the model’s predictiveness vs. a simpler decision tree classifier.  The rationales for each of the different algorithms is as follows:\n",
    "\n",
    "### Logistic Regression (Stats Model & Scikit Learn Logistic Regression)\n",
    "\n",
    "Pros:  This is the only model with coefficients which can be used for analysis as well as providing information on the statistical significance of the different variables.  It is also the easiest algorithm for many people who are less familiar with machine learning to understand.\n",
    "\n",
    "Cons:  Despite these appealing characteristics for presentation, the underlying assumption of linearity and the presence of multi-collinearity result in lower accuracy than models which allow for more variance.\n",
    "\n",
    "### Decision Tree Classifier (Scikit Learning Decision Tree Classifier)\n",
    "\n",
    "Pros:  Decision tree classifiers allow for more non-linear interpretations of the data which are unavailable in a logistic regression model.  Further, the decision tree nodes focus on how to partition the data in a manner with the highest node purity, giving insights into crucial rules to follow when evaluating WR success or failure.\n",
    "\n",
    "Cons:  Decision tree classifiers can over-fit the data so it’s crucial to take steps to ensure that the model performs as well in testing as well as training.  Further, there are several inputs which will require tuning to determine the optimal way to setup the classifier itself.\n",
    "\n",
    "### Decision Tree Bagging Classifier (Sklearn Bagging Classifier)\n",
    "\n",
    "Pros:  Bagging stands for bootstrap aggregation and is akin to create several different smaller decision trees and using their inputs to come to a consensus on the data.  They are useful to avoid overfitting because they lower variance and provide a plurality of outputs.\n",
    "\n",
    "Cons: The lower variance of using a bagging classifier might lead to a less accurate model than an approach with more variance.  Additionally, the model might be difficult to interpret using visualization tools with the same ease as an individual decision tree classifier given its using so many model inputs.\n",
    "\n",
    "### Decision Tree Random Forest Classifier (Scikit Learn Random Forest Classifier)\n",
    "\n",
    "Pros:  Random forest classifiers are a subset of bagging classifiers which also take random samples of the data and construct models but also take an extra step where they randomize the input features.  By doing so they reduce variance even more than a bagging classifier due to the exclusion of specific features and can help avoid overfitting or having a few dominant features drive all the decisions for the model.\n",
    "\n",
    "Cons: The lower variance of using a random forest classifier might lead to a less accurate model than an approach with more variance.  Further, the omission of specific features might result in a large portion of the input models missing key features which assist in segmenting the data.  Additionally, the model might be difficult to interpret using visualization tools with the same ease as an individual decision tree classifier given its using so many model inputs.\n",
    "\n",
    "### Decision Tree Boosting Classifier (GradientBoostingClassifier)\n",
    "\n",
    "Pros: Gradient boosting classifiers are a group of machine learning algorithms which combine multiple decision tree classifiers together to create a stronger predictive model via iteratively incorporating new decision trees which reduce a loss function.  The iterative boosting process typically results in very accurate models especially because gradient boosting trains on hard to classify residuals compared to adaptive boosting which will train on a newly sampled distribution.\n",
    "\n",
    "Cons: Gradient boosting can be prone to overfitting as it can fixate on outliers too much.  Additionally, the computation time and tuning can be quite intensive in nature and the network of decision trees can be difficult to interpret.\n"
   ]
  },
  {
   "cell_type": "markdown",
   "metadata": {},
   "source": [
    "## Implementation\n",
    "\n",
    "This study is designed to model several machine learning techniques and then settle into the model which has the highest area under the curve on the testing set as the final solution to the problem.  The study will cover the following test scenarios to illustrate progressively more effective models for the problem:\n",
    "\n",
    "#### Test 1: Logistic Regression with NFL draft & fantasy football draft position,\n",
    "This model is designed to serve as the initial benchmark for success. While this may seem naive, recall NFL and dynasty draft position represent the consensus views of many practitioners with different modalities for player selection.\n",
    "\n",
    "#### Test 2: Logistic Regression with all possible feature data\n",
    "This model is intended to illustrate the predictiveness using all available features in a logistic regression.  While this will improve the AUC because of the increase in features, it will likely be less predictive than other approaches with less variance.\n",
    "\n",
    "#### Test 3: Decision Tree Classifier with default inputs\n",
    "A decision tree classifier serves three purposes 1) to break the assumption of linearity 2) to establish a baseline for the predictiveness of a naïve decision tree classifier prior to tuning and 3) to provide illustrations for decision tree nodes.\n",
    "\n",
    "#### Test 4: Bagging Classifier with optimized inputs\n",
    "Bagging models are for exploring if several optimized decision tree classifiers provide a more effective solution than just one tree (and alternatives).\n",
    "\n",
    "#### Test 5: Random Forest Classifier with optimized inputs\n",
    "The random forest model is in the analysis to explore if an optimized random forest classifier provides a more effective solution to the final problem.\n",
    "\n",
    "#### Test 6: Gradient Boosting Classifier with optimized inputs\n",
    "Finally, the gradient boosting classifier is for investigating if optimized gradient boosting classifier provides a more effective solution to the final problem.\n",
    "\n",
    "Before implementing any of these models, however, it's neccessary to prepare the dataframes with x and y values as well as split the model into testing and training sets.  "
   ]
  },
  {
   "cell_type": "code",
   "execution_count": 128,
   "metadata": {},
   "outputs": [],
   "source": [
    "# Prepare two sets of x values using the upsampled data\n",
    "x_values_draft_only = final_data_df_kmeans_upsample[['Pick','DraftSlot']]\n",
    "x_values = final_data_df_kmeans_upsample.drop(['WRHit'], axis=1)\n",
    "\n",
    "#Prepare the y values using the upsampled data\n",
    "y_values = final_data_df_kmeans_upsample['WRHit']\n",
    "\n",
    "#Now let's create test and training data with upsampling techniques for unbalanced classes - draft only\n",
    "x_train_draft, x_test_draft, y_train_draft, y_test_draft = train_test_split(x_values_draft_only, y_values, test_size=0.40, random_state=30)\n",
    "\n",
    "#Now let's create test and training data with upsampling techniques for unbalanced classes - all data\n",
    "x_train, x_test, y_train, y_test = train_test_split(x_values, y_values, test_size=0.4, random_state=30)\n",
    "\n"
   ]
  },
  {
   "cell_type": "markdown",
   "metadata": {},
   "source": [
    "### Setting up the benchmark\n",
    "\n",
    "As indicated, the benchmark for improving model accuracy will be a logistic regression using both NFL and dynasty draft position which is setup below.  Recall, the study will be using area under the curve as the primary way to analyze across the models but will also have precision as a supplemental measure.\n"
   ]
  },
  {
   "cell_type": "code",
   "execution_count": 129,
   "metadata": {},
   "outputs": [
    {
     "name": "stdout",
     "output_type": "stream",
     "text": [
      "The benchmark logistic model accuracy is: 68.18181818181817%\n",
      "The benchmark logistic model AUC scores computed using 5-fold cross-validation: 0.6837209302325581\n"
     ]
    }
   ],
   "source": [
    "#Setup a logistic regression model\n",
    "logmodel1 = LogisticRegression()\n",
    "logmodel1.fit(x_train_draft, y_train_draft)\n",
    "\n",
    "#Compute model accuracy\n",
    "y_pred1 = logmodel1.predict(x_test_draft)\n",
    "y_pred2 = logmodel1.predict_proba(x_test_draft)[:,1]\n",
    "accuracy = logmodel1.score(x_test_draft, y_test_draft)\n",
    "\n",
    "#Return the model accuracy & AUC measures\n",
    "print('The benchmark logistic model accuracy is: ' + str(accuracy *100) + '%')\n",
    "print(\"The benchmark logistic model AUC scores computed using 5-fold cross-validation: {}\".format(metrics.roc_auc_score(y_test_draft, y_pred1)))\n"
   ]
  },
  {
   "cell_type": "markdown",
   "metadata": {},
   "source": [
    "#### Using Other Algorithms to Increase Predictive Capability\n",
    "\n",
    "The initial model using draft positioning has some predictive capability but there is room for further improvement.  The next step of this project is to test if other machine learning algorithms are capable of providing modeling techniques which improve area under the curve."
   ]
  },
  {
   "cell_type": "code",
   "execution_count": 130,
   "metadata": {},
   "outputs": [
    {
     "name": "stdout",
     "output_type": "stream",
     "text": [
      "Results for Test #2: Logistic model with all possible features\n",
      "The accuracy is: 79.54545454545455%\n",
      "AUC score is: 0.7963824289405685\n",
      "\n",
      "Results for Test #3: Default decision tree classifier\n",
      "The accuracy is: 84.0909090909091%\n",
      "AUC score is: 0.842377260981912\n",
      "\n",
      "Results for Test #4: Bagging classifier\n",
      "The accuracy is: 84.0909090909091%\n",
      "AUC score is: 0.842377260981912\n",
      "\n",
      "Results for Test #5: Random forest classifier\n",
      "The accuracy is: 86.36363636363636%\n",
      "AUC score is: 0.8645994832041342\n",
      "\n",
      "Results for Test #6: Gradient Boosting Classifier\n",
      "The accuracy is: 86.36363636363636%\n",
      "AUC score is: 0.8645994832041342\n"
     ]
    }
   ],
   "source": [
    "##Test 2: Logistic Regression with all possible feature data\n",
    "#Setup a logistic regression model\n",
    "logmodel2 = LogisticRegression()\n",
    "logmodel2.fit(x_train, y_train)\n",
    "\n",
    "#Compute model accuracy\n",
    "y_pred1 = logmodel2.predict(x_test)\n",
    "y_pred2 = logmodel2.predict_proba(x_test)[:,1]\n",
    "accuracy = logmodel2.score(x_test, y_test)\n",
    "\n",
    "#Return the model accuracy & AUC measures\n",
    "print('Results for Test #2: Logistic model with all possible features')\n",
    "print('The accuracy is: ' + str(accuracy *100) + '%')\n",
    "print(\"AUC score is: {}\".format(metrics.roc_auc_score(y_test, y_pred1)))\n",
    "\n",
    "\n",
    "##Test 3: Decision Tree Classifier with default inputs\n",
    "#Setup a decision tree classifier\n",
    "modeltree = tree.DecisionTreeClassifier()\n",
    "modeltree.fit(x_train, y_train)\n",
    "\n",
    "#Compute model accuracy\n",
    "y_pred1 = modeltree.predict(x_test)\n",
    "y_pred2 = modeltree.predict_proba(x_test)[:,1]\n",
    "accuracy = modeltree.score(x_test, y_test)\n",
    "\n",
    "#Print out model results\n",
    "print('')\n",
    "print('Results for Test #3: Default decision tree classifier')\n",
    "print('The accuracy is: ' + str(accuracy *100) + '%')\n",
    "print(\"AUC score is: {}\".format(metrics.roc_auc_score(y_test, y_pred1)))\n",
    "\n",
    "\n",
    "##Test 4: Bagging Classifier with optimized inputs\n",
    "#Setup a logistic regression model\n",
    "dtc = DecisionTreeClassifier(criterion=\"gini\")\n",
    "modelbagging = BaggingClassifier(base_estimator=dtc)\n",
    "modelbagging.fit(x_train, y_train)\n",
    "\n",
    "#Compute model accuracy\n",
    "y_pred1 = modelbagging.predict(x_test)\n",
    "accuracy = modelbagging.score(x_test, y_test)\n",
    "\n",
    "#Print out model results\n",
    "print('')\n",
    "print('Results for Test #4: Bagging classifier')\n",
    "print('The accuracy is: ' + str(accuracy *100) + '%')\n",
    "print(\"AUC score is: {}\".format(metrics.roc_auc_score(y_test, y_pred1)))\n",
    "\n",
    "##Test 5: Random Forest Classifier with default inputs\n",
    "#Setup a logistic regression model\n",
    "modelrandomforest = RandomForestClassifier()\n",
    "modelrandomforest.fit(x_train, y_train)\n",
    "\n",
    "#Compute model accuracy\n",
    "y_pred1 = modelrandomforest.predict(x_test)\n",
    "accuracy = modelrandomforest.score(x_test, y_test)\n",
    "\n",
    "#Print out model results\n",
    "print('')\n",
    "print('Results for Test #5: Random forest classifier')\n",
    "print('The accuracy is: ' + str(accuracy *100) + '%')\n",
    "print(\"AUC score is: {}\".format(metrics.roc_auc_score(y_test, y_pred1)))\n",
    "\n",
    "##Test 6: Gradient Boosting Classifier with optimized inputs\n",
    "modelGBC = GradientBoostingClassifier()\n",
    "modelGBC.fit(x_train, y_train)\n",
    "    \n",
    "#Compute model accuracy\n",
    "y_pred1 = modelGBC.predict(x_test)\n",
    "accuracy = modelGBC.score(x_test, y_test)\n",
    "\n",
    "#Print out model results\n",
    "print('')\n",
    "print('Results for Test #6: Gradient Boosting Classifier')\n",
    "print('The accuracy is: ' + str(accuracy *100) + '%')\n",
    "print(\"AUC score is: {}\".format(metrics.roc_auc_score(y_test, y_pred1)))\n"
   ]
  },
  {
   "cell_type": "markdown",
   "metadata": {},
   "source": [
    "### Base Model Results\n",
    "\n",
    "It appears as if all of the models outperform the benchmark model with varying degrees of success.  Even though the logistic model is in striking distance of other AUCs, more advanced algorithms will probably have much higher AUCs with some tuning and improvement."
   ]
  },
  {
   "cell_type": "markdown",
   "metadata": {},
   "source": [
    "## Model Refinement\n",
    "\n",
    "The initial accuracy and area under the curve results were fairly strong with the default settings but can be improved with further tuning.  The tuning / refinement process will take place in a few steps.   To do so, I created a function which can iteratively feed the models different inputs, run the model and produce a new AUC for each to pinpoint areas which improve accuracy.\n",
    "\n",
    "Base Decision Tree Classifier:  Tuning some of the initial decision tree classifier’s major inputs such as max depth, minimum sample leafs and max features indicated potential improvements to the decision tree classifier.  Altering the max depth of the decision tree classifier to a depth of 6 and min sample leafs to 10% resulted in an improvement to the first model from an AUC of  91.8% to an AUC of 93.2%.\n",
    "\n",
    "Bagging Classifier:  Tuning some of the bagging classifier’s major inputs such as the max features and number of estimators indicated potential improvements to the bagging classifier.  Altering the max features to 30 and number of estimators for the classifier to 80 resulted in an improvement to the first model from an AUC of  90.6% to an AUC of 91.8%.\n",
    "\n",
    "Random Forest Classifier: Tuning some of the random forest classifier’s major inputs such as the number of estimators and max depth indicated potential improvements to the random forest classifier.  Altering the max depth to 6 and number of estimators for the classifier to 400 resulted in an improvement to the first model from an AUC of  88.3% to an AUC of 91.8%.\n",
    "\n",
    "Gradient Boosting Classifier: Tuning some of the gradient boosting classifier’s major inputs such as the learning rate, number of estimators and max depth indicated potential improvements to the gradient boosting classifier.  Altering the max depth to 2, the number of estimators to 500 and a learning rate of .55 resulted in an improvement to the first model from an AUC of  88.3% to an AUC of 95.4%.\n"
   ]
  },
  {
   "cell_type": "markdown",
   "metadata": {},
   "source": [
    "### Tuning the Original Decision Tree Classifier"
   ]
  },
  {
   "cell_type": "code",
   "execution_count": 136,
   "metadata": {},
   "outputs": [
    {
     "name": "stdout",
     "output_type": "stream",
     "text": [
      "Max Depth: 1\n",
      "AUC score is: 0.8186046511627908\n",
      "Max Depth: 2\n",
      "AUC score is: 0.8863049095607234\n",
      "Max Depth: 3\n",
      "AUC score is: 0.8645994832041342\n",
      "Max Depth: 4\n",
      "AUC score is: 0.8534883720930232\n",
      "Max Depth: 5\n",
      "AUC score is: 0.8868217054263566\n",
      "Max Depth: 6\n",
      "AUC score is: 0.8868217054263566\n",
      "Max Depth: 7\n",
      "AUC score is: 0.8868217054263566\n",
      "Max Depth: 8\n",
      "AUC score is: 0.8868217054263566\n",
      "Max Depth: 9\n",
      "AUC score is: 0.842377260981912\n",
      "Max Depth: 10\n",
      "AUC score is: 0.8529715762273902\n"
     ]
    }
   ],
   "source": [
    "##Tuning the decision tree classifier max depth\n",
    "i = 1\n",
    "while i <= 10:\n",
    "    model = DecisionTreeClassifier(max_depth= i)\n",
    "    model.fit(x_train, y_train)   \n",
    "    \n",
    "    #Calculate training score\n",
    "    y_pred1 = model.predict(x_test)   \n",
    "    print('Max Depth: ' + str(i))\n",
    "    print(\"AUC score is: {}\".format(metrics.roc_auc_score(y_test, y_pred1)))\n",
    "    i += 1"
   ]
  },
  {
   "cell_type": "code",
   "execution_count": 137,
   "metadata": {},
   "outputs": [
    {
     "name": "stdout",
     "output_type": "stream",
     "text": [
      "Min_Samples_Leaf: 0.05\n",
      "AUC score is: 0.8302325581395349\n",
      "Min_Samples_Leaf: 0.07500000000000001\n",
      "AUC score is: 0.8201550387596899\n",
      "Min_Samples_Leaf: 0.1\n",
      "AUC score is: 0.8201550387596899\n",
      "Min_Samples_Leaf: 0.125\n",
      "AUC score is: 0.8201550387596899\n",
      "Min_Samples_Leaf: 0.15\n",
      "AUC score is: 0.8186046511627908\n",
      "Min_Samples_Leaf: 0.175\n",
      "AUC score is: 0.8186046511627908\n",
      "Min_Samples_Leaf: 0.19999999999999998\n",
      "AUC score is: 0.8186046511627908\n",
      "Min_Samples_Leaf: 0.22499999999999998\n",
      "AUC score is: 0.8186046511627908\n",
      "Min_Samples_Leaf: 0.24999999999999997\n",
      "AUC score is: 0.8186046511627908\n",
      "Min_Samples_Leaf: 0.27499999999999997\n",
      "AUC score is: 0.8186046511627908\n",
      "Min_Samples_Leaf: 0.3\n",
      "AUC score is: 0.8186046511627908\n",
      "Min_Samples_Leaf: 0.325\n",
      "AUC score is: 0.8186046511627908\n",
      "Min_Samples_Leaf: 0.35000000000000003\n",
      "AUC score is: 0.8186046511627908\n",
      "Min_Samples_Leaf: 0.37500000000000006\n",
      "AUC score is: 0.8186046511627908\n",
      "Min_Samples_Leaf: 0.4000000000000001\n",
      "AUC score is: 0.8186046511627908\n",
      "Min_Samples_Leaf: 0.4250000000000001\n",
      "AUC score is: 0.8186046511627908\n",
      "Min_Samples_Leaf: 0.4500000000000001\n",
      "AUC score is: 0.8074935400516796\n",
      "Min_Samples_Leaf: 0.47500000000000014\n",
      "AUC score is: 0.8656330749354005\n"
     ]
    }
   ],
   "source": [
    "##Tuning the decision tree classifier min sample split\n",
    "i = .05\n",
    "while i <= .5:\n",
    "    model = DecisionTreeClassifier(max_depth=6, min_weight_fraction_leaf= i)\n",
    "    model.fit(x_train, y_train)   \n",
    "    \n",
    "    #Calculate training score\n",
    "    y_pred1 = model.predict(x_test)   \n",
    "    print('Min_Samples_Leaf: ' + str(i))\n",
    "    print(\"AUC score is: {}\".format(metrics.roc_auc_score(y_test, y_pred1)))\n",
    "    i += .025"
   ]
  },
  {
   "cell_type": "code",
   "execution_count": 138,
   "metadata": {
    "scrolled": true
   },
   "outputs": [
    {
     "name": "stdout",
     "output_type": "stream",
     "text": [
      "Max features: 1\n",
      "AUC score is: 0.7963824289405685\n",
      "Max features: 2\n",
      "AUC score is: 0.8201550387596899\n",
      "Max features: 3\n",
      "AUC score is: 0.8666666666666667\n",
      "Max features: 4\n",
      "AUC score is: 0.8640826873385014\n",
      "Max features: 5\n",
      "AUC score is: 0.8757105943152454\n",
      "Max features: 6\n",
      "AUC score is: 0.8534883720930232\n",
      "Max features: 7\n",
      "AUC score is: 0.9333333333333333\n",
      "Max features: 8\n",
      "AUC score is: 0.8863049095607234\n",
      "Max features: 9\n",
      "AUC score is: 0.7968992248062016\n",
      "Max features: 10\n",
      "AUC score is: 0.7868217054263567\n",
      "Max features: 11\n",
      "AUC score is: 0.8651162790697675\n",
      "Max features: 12\n",
      "AUC score is: 0.8777777777777778\n",
      "Max features: 13\n",
      "AUC score is: 0.8666666666666667\n",
      "Max features: 14\n",
      "AUC score is: 0.8661498708010336\n",
      "Max features: 15\n",
      "AUC score is: 0.9111111111111111\n",
      "Max features: 16\n",
      "AUC score is: 0.8201550387596899\n",
      "Max features: 17\n",
      "AUC score is: 0.842377260981912\n",
      "Max features: 18\n",
      "AUC score is: 0.8661498708010336\n",
      "Max features: 19\n",
      "AUC score is: 0.8868217054263566\n",
      "Max features: 20\n",
      "AUC score is: 0.7857881136950905\n",
      "Max features: 21\n",
      "AUC score is: 0.9\n",
      "Max features: 22\n",
      "AUC score is: 0.8888888888888888\n",
      "Max features: 23\n",
      "AUC score is: 0.8868217054263566\n",
      "Max features: 24\n",
      "AUC score is: 0.8550387596899225\n",
      "Max features: 25\n",
      "AUC score is: 0.8418604651162791\n",
      "Max features: 26\n",
      "AUC score is: 0.8645994832041342\n",
      "Max features: 27\n",
      "AUC score is: 0.842377260981912\n",
      "Max features: 28\n",
      "AUC score is: 0.8534883720930232\n",
      "Max features: 29\n",
      "AUC score is: 0.8751937984496124\n",
      "Max features: 30\n",
      "AUC score is: 0.8868217054263566\n"
     ]
    }
   ],
   "source": [
    "##Tuning the decision tree classifier min sample split\n",
    "i = 1\n",
    "while i <= 30:\n",
    "    model = DecisionTreeClassifier(max_depth=6, max_features= i)\n",
    "    model.fit(x_train, y_train)   \n",
    "    \n",
    "    #Calculate training score\n",
    "    y_pred1 = model.predict(x_test)   \n",
    "    print('Max features: ' + str(i))\n",
    "    print(\"AUC score is: {}\".format(metrics.roc_auc_score(y_test, y_pred1)))\n",
    "    i += 1\n",
    "\n",
    "    "
   ]
  },
  {
   "cell_type": "markdown",
   "metadata": {},
   "source": [
    "### Tuned Decision Tree Classifier\n",
    "\n",
    "It appears that there are a few steps to improve the model and avoid overfitting such as limiting the max depth of the tree to 6 and max features to 15.  I avoided imposing a minimum weight fraction leaf as there doesnt appear to be a benefit."
   ]
  },
  {
   "cell_type": "code",
   "execution_count": 139,
   "metadata": {},
   "outputs": [
    {
     "name": "stdout",
     "output_type": "stream",
     "text": [
      "\n",
      "Results for the tuned decision tree classifier\n",
      "The accuracy is: 87.5%\n",
      "AUC score is: 0.8757105943152454\n"
     ]
    }
   ],
   "source": [
    "#Decision Tree Classifier with tuned inputs\n",
    "#Setup a decision tree classifier\n",
    "modeltreetuned = tree.DecisionTreeClassifier(max_depth=6, max_features=15)\n",
    "modeltreetuned.fit(x_train, y_train)\n",
    "\n",
    "#Compute model accuracy\n",
    "y_pred1 = modeltreetuned.predict(x_test)\n",
    "accuracy = modeltreetuned.score(x_test, y_test)\n",
    "\n",
    "#Print out model results\n",
    "print('')\n",
    "print('Results for the tuned decision tree classifier')\n",
    "print('The accuracy is: ' + str(accuracy *100) + '%')\n",
    "print(\"AUC score is: {}\".format(metrics.roc_auc_score(y_test, y_pred1)))"
   ]
  },
  {
   "cell_type": "markdown",
   "metadata": {},
   "source": [
    "### Tuning the Bagging Classifier"
   ]
  },
  {
   "cell_type": "code",
   "execution_count": 141,
   "metadata": {},
   "outputs": [
    {
     "name": "stdout",
     "output_type": "stream",
     "text": [
      "Max features: 2\n",
      "AUC score is: 0.7741602067183463\n",
      "Max features: 4\n",
      "AUC score is: 0.9201550387596898\n",
      "Max features: 6\n",
      "AUC score is: 0.9\n",
      "Max features: 8\n",
      "AUC score is: 0.840826873385013\n",
      "Max features: 10\n",
      "AUC score is: 0.9222222222222223\n",
      "Max features: 12\n",
      "AUC score is: 0.8757105943152454\n",
      "Max features: 14\n",
      "AUC score is: 0.8534883720930232\n",
      "Max features: 16\n",
      "AUC score is: 0.8645994832041342\n",
      "Max features: 18\n",
      "AUC score is: 0.8757105943152454\n",
      "Max features: 20\n",
      "AUC score is: 0.8868217054263566\n",
      "Max features: 22\n",
      "AUC score is: 0.8757105943152454\n",
      "Max features: 24\n",
      "AUC score is: 0.9\n",
      "Max features: 26\n",
      "AUC score is: 0.842377260981912\n",
      "Max features: 28\n",
      "AUC score is: 0.8645994832041342\n",
      "Max features: 30\n",
      "AUC score is: 0.842377260981912\n"
     ]
    }
   ],
   "source": [
    "##Tuning the bagging classifier max features\n",
    "\n",
    "i = 2\n",
    "while i <= 30:\n",
    "    modelbaggingtuned = BaggingClassifier(max_features=i)\n",
    "    modelbaggingtuned.fit(x_train, y_train)\n",
    "\n",
    "    #Calculate training score\n",
    "    y_pred1 = modelbaggingtuned.predict(x_test)   \n",
    "    print('Max features: ' + str(i))\n",
    "    print(\"AUC score is: {}\".format(metrics.roc_auc_score(y_test, y_pred1)))\n",
    "    i += 2"
   ]
  },
  {
   "cell_type": "code",
   "execution_count": 142,
   "metadata": {
    "scrolled": true
   },
   "outputs": [
    {
     "name": "stdout",
     "output_type": "stream",
     "text": [
      "Number of Estimators: 5\n",
      "AUC score is: 0.8307493540051679\n",
      "Number of Estimators: 10\n",
      "AUC score is: 0.9\n",
      "Number of Estimators: 15\n",
      "AUC score is: 0.9333333333333333\n",
      "Number of Estimators: 20\n",
      "AUC score is: 0.9\n",
      "Number of Estimators: 25\n",
      "AUC score is: 0.9\n",
      "Number of Estimators: 30\n",
      "AUC score is: 0.9222222222222223\n",
      "Number of Estimators: 35\n",
      "AUC score is: 0.8534883720930232\n",
      "Number of Estimators: 40\n",
      "AUC score is: 0.8868217054263566\n",
      "Number of Estimators: 45\n",
      "AUC score is: 0.842377260981912\n",
      "Number of Estimators: 50\n",
      "AUC score is: 0.8534883720930232\n",
      "Number of Estimators: 55\n",
      "AUC score is: 0.8534883720930232\n",
      "Number of Estimators: 60\n",
      "AUC score is: 0.8757105943152454\n",
      "Number of Estimators: 65\n",
      "AUC score is: 0.8868217054263566\n",
      "Number of Estimators: 70\n",
      "AUC score is: 0.8534883720930232\n",
      "Number of Estimators: 75\n",
      "AUC score is: 0.8757105943152454\n",
      "Number of Estimators: 80\n",
      "AUC score is: 0.8645994832041342\n",
      "Number of Estimators: 85\n",
      "AUC score is: 0.9\n",
      "Number of Estimators: 90\n",
      "AUC score is: 0.8757105943152454\n",
      "Number of Estimators: 95\n",
      "AUC score is: 0.8645994832041342\n",
      "Number of Estimators: 100\n",
      "AUC score is: 0.8534883720930232\n"
     ]
    }
   ],
   "source": [
    "##Tuning the bagging classifier number of estimators\n",
    "\n",
    "i = 5\n",
    "while i <= 100:\n",
    "    modelbaggingtuned = BaggingClassifier(max_features =10, n_estimators=i)\n",
    "    modelbaggingtuned.fit(x_train, y_train)\n",
    "\n",
    "    #Calculate training score\n",
    "    y_pred1 = modelbaggingtuned.predict(x_test)   \n",
    "    print('Number of Estimators: ' + str(i))\n",
    "    print(\"AUC score is: {}\".format(metrics.roc_auc_score(y_test, y_pred1)))\n",
    "    i += 5"
   ]
  },
  {
   "cell_type": "markdown",
   "metadata": {},
   "source": [
    "### Tuned Bagging Classifier\n",
    "\n",
    "It appears from the above that tuning the bagging classifier along the number of features and the number of estimators does little to improve the results."
   ]
  },
  {
   "cell_type": "code",
   "execution_count": null,
   "metadata": {},
   "outputs": [],
   "source": []
  },
  {
   "cell_type": "code",
   "execution_count": 146,
   "metadata": {},
   "outputs": [
    {
     "name": "stdout",
     "output_type": "stream",
     "text": [
      "Tuned Bagging Classifier Results\n",
      "AUC score is: 0.9444444444444444\n"
     ]
    }
   ],
   "source": [
    "modelbaggingtuned = BaggingClassifier(max_features =10)\n",
    "modelbaggingtuned.fit(x_train, y_train)\n",
    "\n",
    "#Calculate training score\n",
    "y_pred1 = modelbaggingtuned.predict(x_test)   \n",
    "print('Tuned Bagging Classifier Results')\n",
    "print(\"AUC score is: {}\".format(metrics.roc_auc_score(y_test, y_pred1)))"
   ]
  },
  {
   "cell_type": "markdown",
   "metadata": {},
   "source": [
    "### Tuning a Random Forest Classifier"
   ]
  },
  {
   "cell_type": "code",
   "execution_count": 147,
   "metadata": {},
   "outputs": [
    {
     "name": "stdout",
     "output_type": "stream",
     "text": [
      "Number of Trees: 20\n",
      "AUC score is: 0.9222222222222223\n",
      "Number of Trees: 40\n",
      "AUC score is: 0.8868217054263566\n",
      "Number of Trees: 60\n",
      "AUC score is: 0.8645994832041342\n",
      "Number of Trees: 80\n",
      "AUC score is: 0.8888888888888888\n",
      "Number of Trees: 100\n",
      "AUC score is: 0.9222222222222223\n",
      "Number of Trees: 120\n",
      "AUC score is: 0.8645994832041342\n",
      "Number of Trees: 140\n",
      "AUC score is: 0.9111111111111111\n",
      "Number of Trees: 160\n",
      "AUC score is: 0.8645994832041342\n",
      "Number of Trees: 180\n",
      "AUC score is: 0.9222222222222223\n",
      "Number of Trees: 200\n",
      "AUC score is: 0.8645994832041342\n",
      "Number of Trees: 220\n",
      "AUC score is: 0.8868217054263566\n",
      "Number of Trees: 240\n",
      "AUC score is: 0.8645994832041342\n",
      "Number of Trees: 260\n",
      "AUC score is: 0.8534883720930232\n",
      "Number of Trees: 280\n",
      "AUC score is: 0.8868217054263566\n",
      "Number of Trees: 300\n",
      "AUC score is: 0.8645994832041342\n",
      "Number of Trees: 320\n",
      "AUC score is: 0.8757105943152454\n",
      "Number of Trees: 340\n",
      "AUC score is: 0.8534883720930232\n",
      "Number of Trees: 360\n",
      "AUC score is: 0.8645994832041342\n",
      "Number of Trees: 380\n",
      "AUC score is: 0.8534883720930232\n",
      "Number of Trees: 400\n",
      "AUC score is: 0.8757105943152454\n"
     ]
    }
   ],
   "source": [
    "##Tuning the random forest classifier number of trees\n",
    "\n",
    "i = 20\n",
    "while i <= 400:\n",
    "    modelrandomforesttuned = RandomForestClassifier(n_estimators= i)\n",
    "    modelrandomforesttuned.fit(x_train, y_train)\n",
    "\n",
    "    #Calculate training score\n",
    "    y_pred1 = modelrandomforesttuned.predict(x_test)   \n",
    "    print('Number of Trees: ' + str(i))\n",
    "    print(\"AUC score is: {}\".format(metrics.roc_auc_score(y_test, y_pred1)))\n",
    "    i += 20\n"
   ]
  },
  {
   "cell_type": "code",
   "execution_count": 148,
   "metadata": {},
   "outputs": [
    {
     "name": "stdout",
     "output_type": "stream",
     "text": [
      "Max Depth: 1\n",
      "AUC score is: 0.7963824289405685\n",
      "Max Depth: 2\n",
      "AUC score is: 0.8418604651162791\n",
      "Max Depth: 3\n",
      "AUC score is: 0.8645994832041342\n",
      "Max Depth: 4\n",
      "AUC score is: 0.8534883720930232\n",
      "Max Depth: 5\n",
      "AUC score is: 0.8534883720930232\n",
      "Max Depth: 6\n",
      "AUC score is: 0.8645994832041342\n",
      "Max Depth: 7\n",
      "AUC score is: 0.8645994832041342\n",
      "Max Depth: 8\n",
      "AUC score is: 0.8645994832041342\n",
      "Max Depth: 9\n",
      "AUC score is: 0.8645994832041342\n",
      "Max Depth: 10\n",
      "AUC score is: 0.8757105943152454\n",
      "Max Depth: 11\n",
      "AUC score is: 0.8645994832041342\n",
      "Max Depth: 12\n",
      "AUC score is: 0.8645994832041342\n",
      "Max Depth: 13\n",
      "AUC score is: 0.9111111111111111\n",
      "Max Depth: 14\n",
      "AUC score is: 0.8645994832041342\n",
      "Max Depth: 15\n",
      "AUC score is: 0.9222222222222223\n",
      "Max Depth: 16\n",
      "AUC score is: 0.8868217054263566\n",
      "Max Depth: 17\n",
      "AUC score is: 0.8757105943152454\n",
      "Max Depth: 18\n",
      "AUC score is: 0.8645994832041342\n",
      "Max Depth: 19\n",
      "AUC score is: 0.8534883720930232\n",
      "Max Depth: 20\n",
      "AUC score is: 0.8645994832041342\n"
     ]
    }
   ],
   "source": [
    "##Tuning the random forest classifier max depth\n",
    "\n",
    "i = 1\n",
    "while i <= 20:\n",
    "    modelrandomforesttuned = RandomForestClassifier(max_depth= i)\n",
    "    modelrandomforesttuned.fit(x_train, y_train)\n",
    "\n",
    "    #Calculate training score\n",
    "    y_pred1 = modelrandomforesttuned.predict(x_test)   \n",
    "    print('Max Depth: ' + str(i))\n",
    "    print(\"AUC score is: {}\".format(metrics.roc_auc_score(y_test, y_pred1)))\n",
    "    i += 1\n"
   ]
  },
  {
   "cell_type": "code",
   "execution_count": 149,
   "metadata": {},
   "outputs": [
    {
     "name": "stdout",
     "output_type": "stream",
     "text": [
      "Min Samples Split: 0.025\n",
      "AUC score is: 0.8645994832041342\n",
      "Min Samples Split: 0.05\n",
      "AUC score is: 0.8645994832041342\n",
      "Min Samples Split: 0.07500000000000001\n",
      "AUC score is: 0.9\n",
      "Min Samples Split: 0.1\n",
      "AUC score is: 0.9111111111111111\n",
      "Min Samples Split: 0.125\n",
      "AUC score is: 0.8645994832041342\n",
      "Min Samples Split: 0.15\n",
      "AUC score is: 0.8645994832041342\n",
      "Min Samples Split: 0.175\n",
      "AUC score is: 0.8534883720930232\n",
      "Min Samples Split: 0.19999999999999998\n",
      "AUC score is: 0.8645994832041342\n",
      "Min Samples Split: 0.22499999999999998\n",
      "AUC score is: 0.8312661498708009\n",
      "Min Samples Split: 0.24999999999999997\n",
      "AUC score is: 0.8888888888888888\n"
     ]
    }
   ],
   "source": [
    "##Tuning the random forest classifier min samples splits\n",
    "\n",
    "i = .025\n",
    "while i <= .25:\n",
    "    modelrandomforesttuned = RandomForestClassifier(max_depth = 15, min_samples_split= i)\n",
    "    modelrandomforesttuned.fit(x_train, y_train)\n",
    "\n",
    "    #Calculate training score\n",
    "    y_pred1 = modelrandomforesttuned.predict(x_test)   \n",
    "    print('Min Samples Split: ' + str(i))\n",
    "    print(\"AUC score is: {}\".format(metrics.roc_auc_score(y_test, y_pred1)))\n",
    "    i += .025\n"
   ]
  },
  {
   "cell_type": "markdown",
   "metadata": {},
   "source": [
    "### Tuned Random Forest Classifier\n",
    "\n",
    "It appears possible that manipulating the maximum depth (15) is the only of the three parameters which improves model AUC."
   ]
  },
  {
   "cell_type": "code",
   "execution_count": 150,
   "metadata": {},
   "outputs": [
    {
     "name": "stdout",
     "output_type": "stream",
     "text": [
      "Random Forest Classifier Results\n",
      "AUC score is: 0.9222222222222223\n"
     ]
    }
   ],
   "source": [
    "modelrandomforesttuned = RandomForestClassifier(max_depth = 15)\n",
    "modelrandomforesttuned.fit(x_train, y_train)\n",
    "\n",
    "#Calculate training score\n",
    "y_pred1 = modelrandomforesttuned.predict(x_test)   \n",
    "print('Random Forest Classifier Results')\n",
    "print(\"AUC score is: {}\".format(metrics.roc_auc_score(y_test, y_pred1)))"
   ]
  },
  {
   "cell_type": "markdown",
   "metadata": {},
   "source": [
    "Tuning these variables increases the AUC of the random forest classifier."
   ]
  },
  {
   "cell_type": "markdown",
   "metadata": {},
   "source": [
    "### Tuning the Gradient Boosting Classifier"
   ]
  },
  {
   "cell_type": "code",
   "execution_count": 151,
   "metadata": {},
   "outputs": [
    {
     "name": "stdout",
     "output_type": "stream",
     "text": [
      "Learning Rate: 0.025\n",
      "AUC score is: 0.8645994832041342\n",
      "Learning Rate: 0.05\n",
      "AUC score is: 0.8645994832041342\n",
      "Learning Rate: 0.07500000000000001\n",
      "AUC score is: 0.8645994832041342\n",
      "Learning Rate: 0.1\n",
      "AUC score is: 0.8645994832041342\n",
      "Learning Rate: 0.125\n",
      "AUC score is: 0.8645994832041342\n",
      "Learning Rate: 0.15\n",
      "AUC score is: 0.8534883720930232\n",
      "Learning Rate: 0.175\n",
      "AUC score is: 0.8534883720930232\n",
      "Learning Rate: 0.19999999999999998\n",
      "AUC score is: 0.8534883720930232\n",
      "Learning Rate: 0.22499999999999998\n",
      "AUC score is: 0.8534883720930232\n",
      "Learning Rate: 0.24999999999999997\n",
      "AUC score is: 0.8534883720930232\n",
      "Learning Rate: 0.27499999999999997\n",
      "AUC score is: 0.8534883720930232\n",
      "Learning Rate: 0.3\n",
      "AUC score is: 0.8645994832041342\n",
      "Learning Rate: 0.325\n",
      "AUC score is: 0.8757105943152454\n",
      "Learning Rate: 0.35000000000000003\n",
      "AUC score is: 0.8534883720930232\n",
      "Learning Rate: 0.37500000000000006\n",
      "AUC score is: 0.8645994832041342\n",
      "Learning Rate: 0.4000000000000001\n",
      "AUC score is: 0.8534883720930232\n",
      "Learning Rate: 0.4250000000000001\n",
      "AUC score is: 0.8312661498708009\n",
      "Learning Rate: 0.4500000000000001\n",
      "AUC score is: 0.8645994832041342\n",
      "Learning Rate: 0.47500000000000014\n",
      "AUC score is: 0.8645994832041342\n"
     ]
    }
   ],
   "source": [
    "## Tuning the Gradient Boosting Classifier learning rate\n",
    "i = .025\n",
    "while i <= .5:\n",
    "    modelGBCtuned = GradientBoostingClassifier(learning_rate = i)\n",
    "    modelGBCtuned.fit(x_train, y_train)\n",
    "\n",
    "    #Calculate training score\n",
    "    y_pred1 = modelGBCtuned.predict(x_test)   \n",
    "    print('Learning Rate: ' + str(i))\n",
    "    print(\"AUC score is: {}\".format(metrics.roc_auc_score(y_test, y_pred1)))\n",
    "    i += .025"
   ]
  },
  {
   "cell_type": "code",
   "execution_count": 152,
   "metadata": {},
   "outputs": [
    {
     "name": "stdout",
     "output_type": "stream",
     "text": [
      "Number of Estimators: 50\n",
      "AUC score is: 0.8645994832041342\n",
      "Number of Estimators: 100\n",
      "AUC score is: 0.8645994832041342\n",
      "Number of Estimators: 150\n",
      "AUC score is: 0.8645994832041342\n",
      "Number of Estimators: 200\n",
      "AUC score is: 0.8645994832041342\n",
      "Number of Estimators: 250\n",
      "AUC score is: 0.8645994832041342\n",
      "Number of Estimators: 300\n",
      "AUC score is: 0.8645994832041342\n",
      "Number of Estimators: 350\n",
      "AUC score is: 0.8645994832041342\n",
      "Number of Estimators: 400\n",
      "AUC score is: 0.8645994832041342\n",
      "Number of Estimators: 450\n",
      "AUC score is: 0.8645994832041342\n",
      "Number of Estimators: 500\n",
      "AUC score is: 0.8645994832041342\n"
     ]
    }
   ],
   "source": [
    "## Tuning the Gradient Boosting Classifier # of estimators\n",
    "i = 50\n",
    "while i <= 500:\n",
    "    modelGBCtuned = GradientBoostingClassifier(n_estimators = i)\n",
    "    modelGBCtuned.fit(x_train, y_train)\n",
    "\n",
    "    #Calculate training score\n",
    "    y_pred1 = modelGBCtuned.predict(x_test)   \n",
    "    print('Number of Estimators: ' + str(i))\n",
    "    print(\"AUC score is: {}\".format(metrics.roc_auc_score(y_test, y_pred1)))\n",
    "    i += 50"
   ]
  },
  {
   "cell_type": "code",
   "execution_count": 153,
   "metadata": {},
   "outputs": [
    {
     "name": "stdout",
     "output_type": "stream",
     "text": [
      "Max Depth: 1\n",
      "AUC score is: 0.8757105943152454\n",
      "Max Depth: 2\n",
      "AUC score is: 0.8534883720930232\n",
      "Max Depth: 3\n",
      "AUC score is: 0.8645994832041342\n",
      "Max Depth: 4\n",
      "AUC score is: 0.842377260981912\n",
      "Max Depth: 5\n",
      "AUC score is: 0.8645994832041342\n",
      "Max Depth: 6\n",
      "AUC score is: 0.8757105943152454\n",
      "Max Depth: 7\n",
      "AUC score is: 0.8534883720930232\n",
      "Max Depth: 8\n",
      "AUC score is: 0.8534883720930232\n",
      "Max Depth: 9\n",
      "AUC score is: 0.8534883720930232\n",
      "Max Depth: 10\n",
      "AUC score is: 0.8534883720930232\n",
      "Max Depth: 11\n",
      "AUC score is: 0.8534883720930232\n",
      "Max Depth: 12\n",
      "AUC score is: 0.8534883720930232\n",
      "Max Depth: 13\n",
      "AUC score is: 0.8534883720930232\n",
      "Max Depth: 14\n",
      "AUC score is: 0.8534883720930232\n",
      "Max Depth: 15\n",
      "AUC score is: 0.8534883720930232\n",
      "Max Depth: 16\n",
      "AUC score is: 0.8534883720930232\n",
      "Max Depth: 17\n",
      "AUC score is: 0.8534883720930232\n",
      "Max Depth: 18\n",
      "AUC score is: 0.8534883720930232\n",
      "Max Depth: 19\n",
      "AUC score is: 0.8534883720930232\n",
      "Max Depth: 20\n",
      "AUC score is: 0.8534883720930232\n"
     ]
    }
   ],
   "source": [
    "## Tuning the Gradient Boosting Classifier learning rate\n",
    "i = 1\n",
    "while i <= 20:\n",
    "    modelGBCtuned = GradientBoostingClassifier(max_depth = i)\n",
    "    modelGBCtuned.fit(x_train, y_train)\n",
    "\n",
    "    #Calculate training score\n",
    "    y_pred1 = modelGBCtuned.predict(x_test)   \n",
    "    print('Max Depth: ' + str(i))\n",
    "    print(\"AUC score is: {}\".format(metrics.roc_auc_score(y_test, y_pred1)))\n",
    "    i += 1"
   ]
  },
  {
   "cell_type": "code",
   "execution_count": 155,
   "metadata": {},
   "outputs": [
    {
     "name": "stdout",
     "output_type": "stream",
     "text": [
      "Max Features: 1\n",
      "AUC score is: 0.8979328165374676\n",
      "Max Features: 2\n",
      "AUC score is: 0.8979328165374676\n",
      "Max Features: 3\n",
      "AUC score is: 0.8868217054263566\n",
      "Max Features: 4\n",
      "AUC score is: 0.9333333333333333\n",
      "Max Features: 5\n",
      "AUC score is: 0.9333333333333333\n",
      "Max Features: 6\n",
      "AUC score is: 0.8645994832041342\n",
      "Max Features: 7\n",
      "AUC score is: 0.9111111111111111\n",
      "Max Features: 8\n",
      "AUC score is: 0.8757105943152454\n",
      "Max Features: 9\n",
      "AUC score is: 0.8757105943152454\n",
      "Max Features: 10\n",
      "AUC score is: 0.8757105943152454\n",
      "Max Features: 11\n",
      "AUC score is: 0.8868217054263566\n",
      "Max Features: 12\n",
      "AUC score is: 0.9222222222222223\n",
      "Max Features: 13\n",
      "AUC score is: 0.8534883720930232\n",
      "Max Features: 14\n",
      "AUC score is: 0.8868217054263566\n",
      "Max Features: 15\n",
      "AUC score is: 0.8645994832041342\n",
      "Max Features: 16\n",
      "AUC score is: 0.8534883720930232\n",
      "Max Features: 17\n",
      "AUC score is: 0.8868217054263566\n",
      "Max Features: 18\n",
      "AUC score is: 0.8534883720930232\n",
      "Max Features: 19\n",
      "AUC score is: 0.8645994832041342\n",
      "Max Features: 20\n",
      "AUC score is: 0.8757105943152454\n",
      "Max Features: 21\n",
      "AUC score is: 0.8757105943152454\n",
      "Max Features: 22\n",
      "AUC score is: 0.8757105943152454\n",
      "Max Features: 23\n",
      "AUC score is: 0.8757105943152454\n",
      "Max Features: 24\n",
      "AUC score is: 0.8757105943152454\n",
      "Max Features: 25\n",
      "AUC score is: 0.8868217054263566\n",
      "Max Features: 26\n",
      "AUC score is: 0.8757105943152454\n",
      "Max Features: 27\n",
      "AUC score is: 0.8868217054263566\n",
      "Max Features: 28\n",
      "AUC score is: 0.8757105943152454\n",
      "Max Features: 29\n",
      "AUC score is: 0.8757105943152454\n",
      "Max Features: 30\n",
      "AUC score is: 0.8757105943152454\n",
      "Max Features: 31\n",
      "AUC score is: 0.8757105943152454\n",
      "Max Features: 32\n",
      "AUC score is: 0.8757105943152454\n",
      "Max Features: 33\n",
      "AUC score is: 0.8645994832041342\n"
     ]
    }
   ],
   "source": [
    "## Tuning the Gradient Boosting Classifier max features\n",
    "\n",
    "i = 1\n",
    "while i <= 33:\n",
    "    modelGBCtuned = GradientBoostingClassifier(max_depth = 6,max_features = i)\n",
    "    modelGBCtuned.fit(x_train, y_train)\n",
    "\n",
    "    #Calculate training score\n",
    "    y_pred1 = modelGBCtuned.predict(x_test)   \n",
    "    print('Max Features: ' + str(i))\n",
    "    print(\"AUC score is: {}\".format(metrics.roc_auc_score(y_test, y_pred1)))\n",
    "    i += 1"
   ]
  },
  {
   "cell_type": "markdown",
   "metadata": {},
   "source": [
    "### Tuned Gradient Boosting Classifier\n",
    "\n",
    "It appears that tuning a few features such as the max depth (6) and the max features (5) help tune the model whereas the AUC for the other parameters didn't seem to add much value."
   ]
  },
  {
   "cell_type": "code",
   "execution_count": 157,
   "metadata": {},
   "outputs": [
    {
     "name": "stdout",
     "output_type": "stream",
     "text": [
      "Gradient Boosting Classifier Results\n",
      "AUC score is: 0.8868217054263566\n"
     ]
    }
   ],
   "source": [
    "modelGBCtuned = GradientBoostingClassifier(max_depth = 6, max_features = 5)\n",
    "modelGBCtuned.fit(x_train, y_train)\n",
    "\n",
    "#Calculate training score\n",
    "y_pred1 = modelGBCtuned.predict(x_test)   \n",
    "print('Gradient Boosting Classifier Results')\n",
    "print(\"AUC score is: {}\".format(metrics.roc_auc_score(y_test, y_pred1)))"
   ]
  },
  {
   "cell_type": "markdown",
   "metadata": {},
   "source": [
    "The gradient boosting classifier had the highest AUC of all the models.  This appears to be the leading candidate for the final model, however, further validation and sensitivity tests will come into consideration as well as it’s important for the model to generalize well to the dataset."
   ]
  },
  {
   "cell_type": "markdown",
   "metadata": {},
   "source": [
    "## Model Evaluation and Validation\n",
    "\n",
    "### Model Validation and Sensitivity Analysis\n"
   ]
  },
  {
   "cell_type": "markdown",
   "metadata": {},
   "source": [
    "It’s important the final model generalize well across multiple samples and thus the models require some more validation.  Additionally, the NFL landscape is in flux and observations from a longer time ago might not generalize as well into the future if there are fundamental changes in the way colleges and the NFL utilize WRs.  Therefore, validation will involve testing the AUC over a series of fresh randomly generated samples as well as an exercise which trains the models using data pre and post 2014 to see if the selected model is as effective now as it was in the past.\n",
    "\n",
    "Thus far the test has centered on one random seed to provide the ability to replicate results however, it's important to know if the model generalizes well to other samples.  One way to test this is to generate a variety of samples with random seeds and then test the AUC for a series of trained models given different sample inputs.  Since the Gradient Boosting, Random Forest and Bagging Classifiers showed the most promise, I will test each one using 50 random seeds and evaluating the area under the curve for out of sample data."
   ]
  },
  {
   "cell_type": "code",
   "execution_count": 158,
   "metadata": {},
   "outputs": [],
   "source": [
    "##Create a numpy array for random seeds which will be used for each of the models test sets\n",
    "random_array = np.random.randint(low=1, high=100, size=200)\n",
    "\n",
    "##Generate 200 random samples of data to test the Gradient Boosting Classifier\n",
    "model = modelGBCtuned\n",
    "AUC_list_modelGBCtuned = []\n",
    "for i in random_array:\n",
    "    x_train, x_test, y_train, y_test = train_test_split(x_values, y_values, test_size=.4, random_state=i)\n",
    "    model.fit(x_train, y_train)\n",
    "    y_pred1 = model.predict(x_test)\n",
    "    AUC_add = metrics.roc_auc_score(y_test, y_pred1)\n",
    "    AUC_list_modelGBCtuned.append(AUC_add)"
   ]
  },
  {
   "cell_type": "code",
   "execution_count": 159,
   "metadata": {},
   "outputs": [],
   "source": [
    "##Generate 200 random samples of data to test the Random Forest Classifier\n",
    "model = modelrandomforesttuned\n",
    "AUC_list_modelrandomforesttuned = []\n",
    "for i in random_array:\n",
    "    x_train, x_test, y_train, y_test = train_test_split(x_values, y_values, test_size=.4, random_state=i)\n",
    "    model.fit(x_train, y_train)\n",
    "    y_pred1 = model.predict(x_test)\n",
    "    AUC_add = metrics.roc_auc_score(y_test, y_pred1)\n",
    "    AUC_list_modelrandomforesttuned.append(AUC_add)"
   ]
  },
  {
   "cell_type": "code",
   "execution_count": 160,
   "metadata": {},
   "outputs": [],
   "source": [
    "##Generate 200 random samples of data to test the Bagging Classifier\n",
    "model = modelbaggingtuned\n",
    "AUC_list_modelbaggingtuned = []\n",
    "for i in random_array:\n",
    "    x_train, x_test, y_train, y_test = train_test_split(x_values, y_values, test_size=.4, random_state=i)\n",
    "    model.fit(x_train, y_train)\n",
    "    y_pred1 = model.predict(x_test)\n",
    "    AUC_add = metrics.roc_auc_score(y_test, y_pred1)\n",
    "    AUC_list_modelbaggingtuned.append(AUC_add)"
   ]
  },
  {
   "cell_type": "code",
   "execution_count": 161,
   "metadata": {},
   "outputs": [
    {
     "name": "stdout",
     "output_type": "stream",
     "text": [
      "The mean AUC for the Gradient Boosting Classifier fed 200 random samples is: 0.9309994557850133\n",
      "The mean AUC for the Random Forest Classifier fed 200 random samples is: 0.9251938542769845\n",
      "The mean AUC for the Bagging Classifier fed 200 random samples is: 0.9158114075538836\n"
     ]
    }
   ],
   "source": [
    "##Calculate the mean and median of the rest results\n",
    "\n",
    "print(\"The mean AUC for the Gradient Boosting Classifier fed 200 random samples is: {}\".format(np.mean(AUC_list_modelGBCtuned)))\n",
    "print(\"The mean AUC for the Random Forest Classifier fed 200 random samples is: {}\".format(np.mean(AUC_list_modelrandomforesttuned)))\n",
    "print(\"The mean AUC for the Bagging Classifier fed 200 random samples is: {}\".format(np.mean(AUC_list_modelbaggingtuned)))\n"
   ]
  },
  {
   "cell_type": "markdown",
   "metadata": {},
   "source": [
    "Finally, it's important to run a one last test to ensure that the models we created will scale well into the future and if there is any change in the relationship between the features and target variable over time.  Earlier, I divided the dataset into data pre and post 2014 in an effort to map this difference."
   ]
  },
  {
   "cell_type": "code",
   "execution_count": 162,
   "metadata": {},
   "outputs": [
    {
     "name": "stdout",
     "output_type": "stream",
     "text": [
      "The results for all of the pre 2014 data for the tuned classifiers is as follows:\n",
      "The AUC for the Gradient Boosting Classifier is: 1.0\n",
      "The AUC for the Random Forest Classifier is: 0.9782608695652174\n",
      "The AUC for the Bagging Classifier is: 0.9721633085896076\n",
      "The results for all of the post 2014 data for the tuned classifiers is as follows:\n",
      "The AUC for the Gradient Boosting Classifier is: 0.9285714285714286\n",
      "The AUC for the Random Forest Classifier is: 0.9285714285714286\n",
      "The AUC for the Bagging Classifier is: 0.930952380952381\n"
     ]
    }
   ],
   "source": [
    "##Lets feed the player data through the different classifiers in an effort to see if there is a significant reduction in AUC based on time\n",
    "x_pre14 = final_data_df_kmeans_pre2014.drop(['WRHit'], axis=1)\n",
    "y_pre14 = final_data_df_kmeans_pre2014['WRHit']\n",
    "x_post14 = final_data_df_kmeans_post2014.drop(['WRHit'], axis=1)\n",
    "y_post14 = final_data_df_kmeans_post2014['WRHit']\n",
    "\n",
    "##Predictions for the model pre 2014\n",
    "GBC_AUC_Pre_2014 = metrics.roc_auc_score(y_pre14, modelGBCtuned.predict(x_pre14))\n",
    "Forest_AUC_Pre_2014 = metrics.roc_auc_score(y_pre14, modelrandomforesttuned.predict(x_pre14))\n",
    "Bagging_AUC_Pre_2014 = metrics.roc_auc_score(y_pre14, modelbaggingtuned.predict(x_pre14))\n",
    "\n",
    "##Predictions for the model 2014 and beyond\n",
    "GBC_AUC_Post_2014 = metrics.roc_auc_score(y_post14, modelGBCtuned.predict(x_post14))\n",
    "Forest_AUC_Post_2014 = metrics.roc_auc_score(y_post14, modelrandomforesttuned.predict(x_post14))\n",
    "Bagging_AUC_Post_2014 = metrics.roc_auc_score(y_post14, modelbaggingtuned.predict(x_post14))\n",
    "\n",
    "print(\"The results for all of the pre 2014 data for the tuned classifiers is as follows:\")\n",
    "print(\"The AUC for the Gradient Boosting Classifier is: {}\".format(GBC_AUC_Pre_2014))\n",
    "print(\"The AUC for the Random Forest Classifier is: {}\".format(Forest_AUC_Pre_2014))\n",
    "print(\"The AUC for the Bagging Classifier is: {}\".format(Bagging_AUC_Pre_2014))\n",
    "\n",
    "print(\"The results for all of the post 2014 data for the tuned classifiers is as follows:\")\n",
    "print(\"The AUC for the Gradient Boosting Classifier is: {}\".format(GBC_AUC_Post_2014))\n",
    "print(\"The AUC for the Random Forest Classifier is: {}\".format(Forest_AUC_Post_2014))\n",
    "print(\"The AUC for the Bagging Classifier is: {}\".format(Bagging_AUC_Post_2014))\n",
    "\n"
   ]
  },
  {
   "cell_type": "markdown",
   "metadata": {},
   "source": [
    "## Model Selection & Justification\n",
    "\n",
    "It appears as if all three classifiers have very close results as it pertains to AUC but the Gradient Boosting Classifier had the best results overall (93.1% AUC vs 92.5% & 91.5%).  While the Gradient Boosting Classifier had lower results than the Bagging Classifier post 2014, it was still fairly close to the other alternatives.  As a result, I will use the Gradient Boosting Classifier moving forward for player evaluation.\n",
    "\n",
    "The final solution to the problem is to use the trained Gradient Boosting Classifier to model success in the future.  It was the most successful model looking at a variety of samples and will likely benefit time progresses and there are more samples for the gradient boosting to work with.\n",
    "\n",
    "The Gradient Boosting Classifier had a demonstrably larger AUC relative to a model which proxies the NFL and dynasty community consensus (the logistic regression model with an AUC of 68.4%) which is one of two justifications for using it as a solution to the problem.  The other justification is that it can be used as a supplement to existing scouting processes.  An “ensemble” approach of using models such as this and fundamental scouting might lead to even more accurate player evaluation.  "
   ]
  },
  {
   "cell_type": "markdown",
   "metadata": {},
   "source": [
    "# Conclusions & Visuals\n",
    "\n",
    "## Free-Form Visualization\n",
    "\n",
    "### WR Decision Tree\n",
    "One of the appealing aspects about decision trees generally are the simple rules they evoke.  They can provide useful ways to build rules based approaches that can provide insights even to people who are uninformed about machine learning.  While we cannot visualize all the trees from a Gradient Boosting Classifier, it is possible to show the results for the original tuned decision tree classifier from earlier as an indication of what the Gradient Boosting Classifier might look like.  We can generate a visual using graphviz."
   ]
  },
  {
   "cell_type": "code",
   "execution_count": 163,
   "metadata": {},
   "outputs": [
    {
     "data": {
      "text/plain": [
       "True"
      ]
     },
     "execution_count": 163,
     "metadata": {},
     "output_type": "execute_result"
    }
   ],
   "source": [
    "import pydotplus\n",
    "from sklearn.datasets import load_iris\n",
    "from sklearn import tree\n",
    "import collections\n",
    "\n",
    "\n",
    "data_feature_names = x_train.columns\n",
    "\n",
    "# Training\n",
    "#clf = tree.DecisionTreeClassifier()\n",
    "#clf = clf.fit(x_train, y_train)\n",
    "\n",
    "# Visualize data\n",
    "dot_data = tree.export_graphviz(modeltreetuned,\n",
    "                                feature_names=data_feature_names,\n",
    "                                out_file=None,\n",
    "                                filled=True,\n",
    "                                rounded=True)\n",
    "graph = pydotplus.graph_from_dot_data(dot_data)\n",
    "\n",
    "colors = ('turquoise', 'white')\n",
    "edges = collections.defaultdict(list)\n",
    "\n",
    "for edge in graph.get_edge_list():\n",
    "    edges[edge.get_source()].append(int(edge.get_destination()))\n",
    "\n",
    "for edge in edges:\n",
    "    edges[edge].sort()    \n",
    "    for i in range(2):\n",
    "        dest = graph.get_node(str(edges[edge][i]))[0]\n",
    "        dest.set_fillcolor(colors[i])\n",
    "\n",
    "graph.write_png('NFL_WR_Model_Final.png')"
   ]
  },
  {
   "cell_type": "code",
   "execution_count": 1,
   "metadata": {},
   "outputs": [
    {
     "ename": "NameError",
     "evalue": "name 'final_data_df_2020' is not defined",
     "output_type": "error",
     "traceback": [
      "\u001b[1;31m---------------------------------------------------------------------------\u001b[0m",
      "\u001b[1;31mNameError\u001b[0m                                 Traceback (most recent call last)",
      "\u001b[1;32m<ipython-input-1-6013017a76db>\u001b[0m in \u001b[0;36m<module>\u001b[1;34m\u001b[0m\n\u001b[0;32m      2\u001b[0m \u001b[1;31m#2020WRS=\u001b[0m\u001b[1;33m\u001b[0m\u001b[1;33m\u001b[0m\u001b[1;33m\u001b[0m\u001b[0m\n\u001b[0;32m      3\u001b[0m \u001b[1;31m#model.fit(x_train, y_train)\u001b[0m\u001b[1;33m\u001b[0m\u001b[1;33m\u001b[0m\u001b[1;33m\u001b[0m\u001b[0m\n\u001b[1;32m----> 4\u001b[1;33m \u001b[0mfinal_data_df_2020\u001b[0m\u001b[1;33m.\u001b[0m\u001b[0mhead\u001b[0m\u001b[1;33m(\u001b[0m\u001b[1;33m)\u001b[0m\u001b[1;33m\u001b[0m\u001b[1;33m\u001b[0m\u001b[0m\n\u001b[0m",
      "\u001b[1;31mNameError\u001b[0m: name 'final_data_df_2020' is not defined"
     ]
    }
   ],
   "source": [
    "#model = modelGBCtuned\n",
    "#2020WRS= \n",
    "#model.fit(x_train, y_train)\n",
    "final_data_df_2020.head()"
   ]
  },
  {
   "cell_type": "markdown",
   "metadata": {},
   "source": [
    "### Reflection\n",
    "\n",
    "The original problem was the need to supplement existing fundamental scouting of dynasty WRs with a more empirically driven way to analyze them.  This had several interesting and challenging components such as organizing and cleaning all the data, determining all of the machine learning algorithms to use, validating the proposed models and then visualizing and interpreting the data from the tuned tree model.  Cleaning and prepping the data into a consolidated dataframe was probably the most difficult part because it involved so much manipulation, merging, scaling and imputation with each step requiring analysis on the pros and cons of different approaches.  The model’s predictive capability (AUC in this case) ended up exceeding my expectations and the relevant features were also surprising.  I would have thought draft position would have played a more pivotal role in the final model but perhaps there is some correlation with the PFF data which took center stage.  Now the model can be deployed to future classes of WRs and an advantage in dynasty fantasy football.\n"
   ]
  },
  {
   "cell_type": "markdown",
   "metadata": {},
   "source": [
    "### Improvement\n",
    "\n",
    "In my perspective, there are three areas for potential improvements; 1) add some features in the data which speak to the landing spot for WRs and schematic fit 2) test if other uninvestigated algorithms are capable of increasing the AUC using the prior data 3) spend more time considering different methods for imputation and backfilling missing data to increase the number of observations."
   ]
  },
  {
   "cell_type": "code",
   "execution_count": null,
   "metadata": {},
   "outputs": [],
   "source": []
  }
 ],
 "metadata": {
  "kernelspec": {
   "display_name": "Python 3",
   "language": "python",
   "name": "python3"
  },
  "language_info": {
   "codemirror_mode": {
    "name": "ipython",
    "version": 3
   },
   "file_extension": ".py",
   "mimetype": "text/x-python",
   "name": "python",
   "nbconvert_exporter": "python",
   "pygments_lexer": "ipython3",
   "version": "3.8.3"
  }
 },
 "nbformat": 4,
 "nbformat_minor": 4
}
